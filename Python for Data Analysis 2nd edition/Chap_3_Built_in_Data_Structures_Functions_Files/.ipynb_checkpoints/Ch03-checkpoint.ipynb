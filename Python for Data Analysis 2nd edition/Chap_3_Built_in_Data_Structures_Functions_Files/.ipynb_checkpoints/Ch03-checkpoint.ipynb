{
 "cells": [
  {
   "cell_type": "markdown",
   "id": "573c05e8",
   "metadata": {},
   "source": [
    "# CHAPTER-03\n",
    "## Built-in Data Structures, Functions, and Files"
   ]
  },
  {
   "cell_type": "markdown",
   "id": "42d8f3d7",
   "metadata": {},
   "source": [
    "### Data Structures and Sequences"
   ]
  },
  {
   "cell_type": "markdown",
   "id": "1c9b86d4",
   "metadata": {},
   "source": [
    "### Tuple"
   ]
  },
  {
   "cell_type": "code",
   "execution_count": 1,
   "id": "cd445a72",
   "metadata": {},
   "outputs": [],
   "source": [
    "# A tuple is a fixed-length, immutable sequence of Python objects"
   ]
  },
  {
   "cell_type": "code",
   "execution_count": 2,
   "id": "7517db30",
   "metadata": {},
   "outputs": [],
   "source": [
    "tup = 2, 4, 6, 7"
   ]
  },
  {
   "cell_type": "code",
   "execution_count": 3,
   "id": "c3a5ef61",
   "metadata": {},
   "outputs": [
    {
     "data": {
      "text/plain": [
       "(2, 4, 6, 7)"
      ]
     },
     "execution_count": 3,
     "metadata": {},
     "output_type": "execute_result"
    }
   ],
   "source": [
    "tup"
   ]
  },
  {
   "cell_type": "markdown",
   "id": "73c55cd2",
   "metadata": {},
   "source": [
    "### Nested Tuple"
   ]
  },
  {
   "cell_type": "code",
   "execution_count": 4,
   "id": "5189dc19",
   "metadata": {},
   "outputs": [],
   "source": [
    "nested_tup = (1, 4, 5), (2, 3, 5, 6)"
   ]
  },
  {
   "cell_type": "code",
   "execution_count": 5,
   "id": "51b328a7",
   "metadata": {},
   "outputs": [
    {
     "data": {
      "text/plain": [
       "((1, 4, 5), (2, 3, 5, 6))"
      ]
     },
     "execution_count": 5,
     "metadata": {},
     "output_type": "execute_result"
    }
   ],
   "source": [
    "nested_tup"
   ]
  },
  {
   "cell_type": "code",
   "execution_count": 6,
   "id": "af2d2e6b",
   "metadata": {},
   "outputs": [
    {
     "data": {
      "text/plain": [
       "(3, 4, 5, 6)"
      ]
     },
     "execution_count": 6,
     "metadata": {},
     "output_type": "execute_result"
    }
   ],
   "source": [
    "tuple([3,4,5,6])"
   ]
  },
  {
   "cell_type": "code",
   "execution_count": 7,
   "id": "ad2967aa",
   "metadata": {},
   "outputs": [
    {
     "data": {
      "text/plain": [
       "('H', 'e', 'l', 'l', 'o', ' ', 'W', 'o', 'r', 'l', 'd')"
      ]
     },
     "execution_count": 7,
     "metadata": {},
     "output_type": "execute_result"
    }
   ],
   "source": [
    "tuple('Hello World')"
   ]
  },
  {
   "cell_type": "code",
   "execution_count": 8,
   "id": "14c72569",
   "metadata": {},
   "outputs": [],
   "source": [
    "# Elements of tuple can be accessed by square brackets \"[]\""
   ]
  },
  {
   "cell_type": "code",
   "execution_count": 9,
   "id": "c170d81c",
   "metadata": {},
   "outputs": [
    {
     "data": {
      "text/plain": [
       "'P'"
      ]
     },
     "execution_count": 9,
     "metadata": {},
     "output_type": "execute_result"
    }
   ],
   "source": [
    "tup_1 = tuple('Python')\n",
    "tup_1[0]"
   ]
  },
  {
   "cell_type": "code",
   "execution_count": 10,
   "id": "2c3c7613",
   "metadata": {},
   "outputs": [
    {
     "data": {
      "text/plain": [
       "'o'"
      ]
     },
     "execution_count": 10,
     "metadata": {},
     "output_type": "execute_result"
    }
   ],
   "source": [
    "tup_1[4]"
   ]
  },
  {
   "cell_type": "code",
   "execution_count": 11,
   "id": "85f7025a",
   "metadata": {},
   "outputs": [],
   "source": [
    "tup_3 = tuple([(1,2,4), 'foo', [1,3,4], False])"
   ]
  },
  {
   "cell_type": "code",
   "execution_count": 12,
   "id": "c1beb94e",
   "metadata": {},
   "outputs": [
    {
     "data": {
      "text/plain": [
       "((1, 2, 4), 'foo', [1, 3, 4], False)"
      ]
     },
     "execution_count": 12,
     "metadata": {},
     "output_type": "execute_result"
    }
   ],
   "source": [
    "tup_3"
   ]
  },
  {
   "cell_type": "code",
   "execution_count": 13,
   "id": "ad001d33",
   "metadata": {},
   "outputs": [
    {
     "data": {
      "text/plain": [
       "[1, 3, 4]"
      ]
     },
     "execution_count": 13,
     "metadata": {},
     "output_type": "execute_result"
    }
   ],
   "source": [
    "tup_3[2]"
   ]
  },
  {
   "cell_type": "code",
   "execution_count": 14,
   "id": "9006f703",
   "metadata": {},
   "outputs": [
    {
     "ename": "TypeError",
     "evalue": "'tuple' object does not support item assignment",
     "output_type": "error",
     "traceback": [
      "\u001b[1;31m---------------------------------------------------------------------------\u001b[0m",
      "\u001b[1;31mTypeError\u001b[0m                                 Traceback (most recent call last)",
      "Input \u001b[1;32mIn [14]\u001b[0m, in \u001b[0;36m<cell line: 2>\u001b[1;34m()\u001b[0m\n\u001b[0;32m      1\u001b[0m \u001b[38;5;66;03m### Tuples are immutable we can't modify \u001b[39;00m\n\u001b[1;32m----> 2\u001b[0m tup_3[\u001b[38;5;241m3\u001b[39m] \u001b[38;5;241m=\u001b[39m \u001b[38;5;28;01mFalse\u001b[39;00m\n",
      "\u001b[1;31mTypeError\u001b[0m: 'tuple' object does not support item assignment"
     ]
    }
   ],
   "source": [
    "### Tuples are immutable we can't modify \n",
    "tup_3[3] = False"
   ]
  },
  {
   "cell_type": "code",
   "execution_count": null,
   "id": "07d4049a",
   "metadata": {},
   "outputs": [],
   "source": [
    "tup_3[2].append(2)"
   ]
  },
  {
   "cell_type": "code",
   "execution_count": null,
   "id": "9cf94a34",
   "metadata": {},
   "outputs": [],
   "source": [
    "tup_3"
   ]
  },
  {
   "cell_type": "code",
   "execution_count": null,
   "id": "bfbab10a",
   "metadata": {},
   "outputs": [],
   "source": [
    "### Concatenate Tuples\n",
    "(4, None, 'foo') + (6, 0) + ('bar',)"
   ]
  },
  {
   "cell_type": "code",
   "execution_count": null,
   "id": "22921896",
   "metadata": {},
   "outputs": [],
   "source": [
    "### multiplying tuples\n",
    "('foo', 'bar') * 4"
   ]
  },
  {
   "cell_type": "markdown",
   "id": "d2371d17",
   "metadata": {},
   "source": [
    "### Unpacking tuples"
   ]
  },
  {
   "cell_type": "code",
   "execution_count": null,
   "id": "b04c8d09",
   "metadata": {},
   "outputs": [],
   "source": [
    "# we can unpack tuples by assigning variables\n",
    "tup_4 = (1,2,3,4)"
   ]
  },
  {
   "cell_type": "code",
   "execution_count": null,
   "id": "b08c2f35",
   "metadata": {},
   "outputs": [],
   "source": [
    "a,b,c,d = tup_4\n",
    "print(a)\n",
    "print(b)\n",
    "print(c)\n",
    "print(d)"
   ]
  },
  {
   "cell_type": "code",
   "execution_count": null,
   "id": "d7d6f9d4",
   "metadata": {},
   "outputs": [],
   "source": [
    "### unpack nested tuples\n",
    "tup_5 = 1,3,5,(4,5,6) "
   ]
  },
  {
   "cell_type": "code",
   "execution_count": null,
   "id": "9061de8b",
   "metadata": {},
   "outputs": [],
   "source": [
    "a,b,c,(d,f,g) = tup_5"
   ]
  },
  {
   "cell_type": "code",
   "execution_count": null,
   "id": "1a8e3a5b",
   "metadata": {},
   "outputs": [],
   "source": [
    "print(a)\n",
    "print(b)\n",
    "print(c)\n",
    "print(d)\n",
    "print(f)\n",
    "print(g)"
   ]
  },
  {
   "cell_type": "code",
   "execution_count": null,
   "id": "da5f884f",
   "metadata": {},
   "outputs": [],
   "source": [
    "### swap variable names\n",
    "tmp = a\n",
    "a = b\n",
    "b = tmp"
   ]
  },
  {
   "cell_type": "code",
   "execution_count": null,
   "id": "7a4d4207",
   "metadata": {},
   "outputs": [],
   "source": [
    "tmp"
   ]
  },
  {
   "cell_type": "code",
   "execution_count": null,
   "id": "4ecadf3d",
   "metadata": {},
   "outputs": [],
   "source": [
    "a"
   ]
  },
  {
   "cell_type": "code",
   "execution_count": null,
   "id": "fd1d508c",
   "metadata": {},
   "outputs": [],
   "source": [
    "b"
   ]
  },
  {
   "cell_type": "code",
   "execution_count": null,
   "id": "28c54466",
   "metadata": {},
   "outputs": [],
   "source": [
    "a,b = 2,5"
   ]
  },
  {
   "cell_type": "code",
   "execution_count": 15,
   "id": "e4804043",
   "metadata": {},
   "outputs": [
    {
     "ename": "NameError",
     "evalue": "name 'a' is not defined",
     "output_type": "error",
     "traceback": [
      "\u001b[1;31m---------------------------------------------------------------------------\u001b[0m",
      "\u001b[1;31mNameError\u001b[0m                                 Traceback (most recent call last)",
      "Input \u001b[1;32mIn [15]\u001b[0m, in \u001b[0;36m<cell line: 1>\u001b[1;34m()\u001b[0m\n\u001b[1;32m----> 1\u001b[0m \u001b[43ma\u001b[49m\n",
      "\u001b[1;31mNameError\u001b[0m: name 'a' is not defined"
     ]
    }
   ],
   "source": [
    "a"
   ]
  },
  {
   "cell_type": "code",
   "execution_count": 16,
   "id": "9a88ad21",
   "metadata": {},
   "outputs": [
    {
     "ename": "NameError",
     "evalue": "name 'b' is not defined",
     "output_type": "error",
     "traceback": [
      "\u001b[1;31m---------------------------------------------------------------------------\u001b[0m",
      "\u001b[1;31mNameError\u001b[0m                                 Traceback (most recent call last)",
      "Input \u001b[1;32mIn [16]\u001b[0m, in \u001b[0;36m<cell line: 1>\u001b[1;34m()\u001b[0m\n\u001b[1;32m----> 1\u001b[0m \u001b[43mb\u001b[49m\n",
      "\u001b[1;31mNameError\u001b[0m: name 'b' is not defined"
     ]
    }
   ],
   "source": [
    "b"
   ]
  },
  {
   "cell_type": "code",
   "execution_count": 17,
   "id": "ebabb92e",
   "metadata": {},
   "outputs": [
    {
     "ename": "NameError",
     "evalue": "name 'b' is not defined",
     "output_type": "error",
     "traceback": [
      "\u001b[1;31m---------------------------------------------------------------------------\u001b[0m",
      "\u001b[1;31mNameError\u001b[0m                                 Traceback (most recent call last)",
      "Input \u001b[1;32mIn [17]\u001b[0m, in \u001b[0;36m<cell line: 1>\u001b[1;34m()\u001b[0m\n\u001b[1;32m----> 1\u001b[0m a,b \u001b[38;5;241m=\u001b[39m \u001b[43mb\u001b[49m,a\n",
      "\u001b[1;31mNameError\u001b[0m: name 'b' is not defined"
     ]
    }
   ],
   "source": [
    "a,b = b,a"
   ]
  },
  {
   "cell_type": "code",
   "execution_count": 18,
   "id": "a1cebffb",
   "metadata": {},
   "outputs": [
    {
     "ename": "NameError",
     "evalue": "name 'a' is not defined",
     "output_type": "error",
     "traceback": [
      "\u001b[1;31m---------------------------------------------------------------------------\u001b[0m",
      "\u001b[1;31mNameError\u001b[0m                                 Traceback (most recent call last)",
      "Input \u001b[1;32mIn [18]\u001b[0m, in \u001b[0;36m<cell line: 1>\u001b[1;34m()\u001b[0m\n\u001b[1;32m----> 1\u001b[0m \u001b[43ma\u001b[49m\n",
      "\u001b[1;31mNameError\u001b[0m: name 'a' is not defined"
     ]
    }
   ],
   "source": [
    "a"
   ]
  },
  {
   "cell_type": "code",
   "execution_count": 19,
   "id": "479a9f63",
   "metadata": {},
   "outputs": [
    {
     "ename": "NameError",
     "evalue": "name 'b' is not defined",
     "output_type": "error",
     "traceback": [
      "\u001b[1;31m---------------------------------------------------------------------------\u001b[0m",
      "\u001b[1;31mNameError\u001b[0m                                 Traceback (most recent call last)",
      "Input \u001b[1;32mIn [19]\u001b[0m, in \u001b[0;36m<cell line: 1>\u001b[1;34m()\u001b[0m\n\u001b[1;32m----> 1\u001b[0m \u001b[43mb\u001b[49m\n",
      "\u001b[1;31mNameError\u001b[0m: name 'b' is not defined"
     ]
    }
   ],
   "source": [
    "b"
   ]
  },
  {
   "cell_type": "code",
   "execution_count": 20,
   "id": "b3247f6f",
   "metadata": {},
   "outputs": [
    {
     "name": "stdout",
     "output_type": "stream",
     "text": [
      "a-11, b-12, c-13\n",
      "a-14, b-15, c-16\n",
      "a-17, b-18, c-19\n"
     ]
    }
   ],
   "source": [
    "# variable unpacking is iterating over sequences of tuples or lists\n",
    "tup_seq = [(11,12,13),(14,15,16),(17,18,19)]\n",
    "for x,y,z in tup_seq:\n",
    "    print('a-{0}, b-{1}, c-{2}'.format(x,y,z))"
   ]
  },
  {
   "cell_type": "code",
   "execution_count": 21,
   "id": "3c0bb38a",
   "metadata": {},
   "outputs": [],
   "source": [
    "# unpack few elements  \n",
    "tup_values = 11, 12, 13, 14, 15\n",
    "x, y, *rest = tup_values"
   ]
  },
  {
   "cell_type": "code",
   "execution_count": 22,
   "id": "9c1bbbcd",
   "metadata": {},
   "outputs": [
    {
     "data": {
      "text/plain": [
       "11"
      ]
     },
     "execution_count": 22,
     "metadata": {},
     "output_type": "execute_result"
    }
   ],
   "source": [
    "x"
   ]
  },
  {
   "cell_type": "code",
   "execution_count": 23,
   "id": "ea2d89f2",
   "metadata": {},
   "outputs": [
    {
     "data": {
      "text/plain": [
       "12"
      ]
     },
     "execution_count": 23,
     "metadata": {},
     "output_type": "execute_result"
    }
   ],
   "source": [
    "y"
   ]
  },
  {
   "cell_type": "code",
   "execution_count": 24,
   "id": "8aacb333",
   "metadata": {},
   "outputs": [
    {
     "data": {
      "text/plain": [
       "[13, 14, 15]"
      ]
     },
     "execution_count": 24,
     "metadata": {},
     "output_type": "execute_result"
    }
   ],
   "source": [
    "rest"
   ]
  },
  {
   "cell_type": "code",
   "execution_count": 25,
   "id": "88a1b48b",
   "metadata": {},
   "outputs": [],
   "source": [
    "x, y, *_ = tup_values"
   ]
  },
  {
   "cell_type": "code",
   "execution_count": 26,
   "id": "596d0909",
   "metadata": {},
   "outputs": [
    {
     "data": {
      "text/plain": [
       "11"
      ]
     },
     "execution_count": 26,
     "metadata": {},
     "output_type": "execute_result"
    }
   ],
   "source": [
    "x"
   ]
  },
  {
   "cell_type": "code",
   "execution_count": 27,
   "id": "edf4dad5",
   "metadata": {},
   "outputs": [
    {
     "data": {
      "text/plain": [
       "12"
      ]
     },
     "execution_count": 27,
     "metadata": {},
     "output_type": "execute_result"
    }
   ],
   "source": [
    "y"
   ]
  },
  {
   "cell_type": "code",
   "execution_count": 28,
   "id": "2cf360bf",
   "metadata": {},
   "outputs": [
    {
     "data": {
      "text/plain": [
       "[13, 14, 15]"
      ]
     },
     "execution_count": 28,
     "metadata": {},
     "output_type": "execute_result"
    }
   ],
   "source": [
    "_"
   ]
  },
  {
   "cell_type": "markdown",
   "id": "bb37d2a9",
   "metadata": {},
   "source": [
    "### Tuple methods\n"
   ]
  },
  {
   "cell_type": "code",
   "execution_count": 29,
   "id": "b266303a",
   "metadata": {},
   "outputs": [
    {
     "data": {
      "text/plain": [
       "2"
      ]
     },
     "execution_count": 29,
     "metadata": {},
     "output_type": "execute_result"
    }
   ],
   "source": [
    "y = (11,22,11,22,33,33,33,44,44,55,55,66,66,66,66,77,88)\n",
    "y.count(22)"
   ]
  },
  {
   "cell_type": "code",
   "execution_count": 30,
   "id": "72dddd23",
   "metadata": {},
   "outputs": [
    {
     "data": {
      "text/plain": [
       "3"
      ]
     },
     "execution_count": 30,
     "metadata": {},
     "output_type": "execute_result"
    }
   ],
   "source": [
    "y.count(33)"
   ]
  },
  {
   "cell_type": "code",
   "execution_count": 31,
   "id": "c06c8516",
   "metadata": {},
   "outputs": [
    {
     "data": {
      "text/plain": [
       "2"
      ]
     },
     "execution_count": 31,
     "metadata": {},
     "output_type": "execute_result"
    }
   ],
   "source": [
    "y.count(44)"
   ]
  },
  {
   "cell_type": "code",
   "execution_count": 32,
   "id": "b35647db",
   "metadata": {},
   "outputs": [
    {
     "data": {
      "text/plain": [
       "4"
      ]
     },
     "execution_count": 32,
     "metadata": {},
     "output_type": "execute_result"
    }
   ],
   "source": [
    "y.count(66)"
   ]
  },
  {
   "cell_type": "markdown",
   "id": "72621f40",
   "metadata": {},
   "source": [
    "### List"
   ]
  },
  {
   "cell_type": "code",
   "execution_count": 33,
   "id": "7c5ed2c0",
   "metadata": {},
   "outputs": [],
   "source": [
    "x_list = [None, 1, 2, 5, 3, None]"
   ]
  },
  {
   "cell_type": "code",
   "execution_count": 34,
   "id": "9354e4dd",
   "metadata": {},
   "outputs": [],
   "source": [
    "z_tup = ('apple', 'book', 'cat')"
   ]
  },
  {
   "cell_type": "code",
   "execution_count": 35,
   "id": "46d6b7bc",
   "metadata": {},
   "outputs": [
    {
     "data": {
      "text/plain": [
       "[None, 1, 2, 5, 3, None]"
      ]
     },
     "execution_count": 35,
     "metadata": {},
     "output_type": "execute_result"
    }
   ],
   "source": [
    "x_list"
   ]
  },
  {
   "cell_type": "code",
   "execution_count": 36,
   "id": "cc515f16",
   "metadata": {},
   "outputs": [],
   "source": [
    "x_list[1] = 'bat'"
   ]
  },
  {
   "cell_type": "code",
   "execution_count": 37,
   "id": "32bf026b",
   "metadata": {},
   "outputs": [
    {
     "data": {
      "text/plain": [
       "[None, 'bat', 2, 5, 3, None]"
      ]
     },
     "execution_count": 37,
     "metadata": {},
     "output_type": "execute_result"
    }
   ],
   "source": [
    "x_list"
   ]
  },
  {
   "cell_type": "code",
   "execution_count": 38,
   "id": "ac569c79",
   "metadata": {},
   "outputs": [
    {
     "data": {
      "text/plain": [
       "('apple', 'book', 'cat')"
      ]
     },
     "execution_count": 38,
     "metadata": {},
     "output_type": "execute_result"
    }
   ],
   "source": [
    "z_tup"
   ]
  },
  {
   "cell_type": "code",
   "execution_count": 39,
   "id": "93196675",
   "metadata": {},
   "outputs": [],
   "source": [
    "z_list = list(z_tup)"
   ]
  },
  {
   "cell_type": "code",
   "execution_count": 40,
   "id": "42b360ae",
   "metadata": {},
   "outputs": [
    {
     "data": {
      "text/plain": [
       "['apple', 'book', 'cat']"
      ]
     },
     "execution_count": 40,
     "metadata": {},
     "output_type": "execute_result"
    }
   ],
   "source": [
    "z_list"
   ]
  },
  {
   "cell_type": "code",
   "execution_count": 41,
   "id": "bc83f0ad",
   "metadata": {},
   "outputs": [],
   "source": [
    "z_list[0]='mango'"
   ]
  },
  {
   "cell_type": "code",
   "execution_count": 42,
   "id": "806912c8",
   "metadata": {},
   "outputs": [
    {
     "data": {
      "text/plain": [
       "['mango', 'book', 'cat']"
      ]
     },
     "execution_count": 42,
     "metadata": {},
     "output_type": "execute_result"
    }
   ],
   "source": [
    "z_list"
   ]
  },
  {
   "cell_type": "code",
   "execution_count": 43,
   "id": "1101cdaf",
   "metadata": {},
   "outputs": [],
   "source": [
    "gen = range(10)"
   ]
  },
  {
   "cell_type": "code",
   "execution_count": 44,
   "id": "f850b4da",
   "metadata": {},
   "outputs": [
    {
     "data": {
      "text/plain": [
       "range(0, 10)"
      ]
     },
     "execution_count": 44,
     "metadata": {},
     "output_type": "execute_result"
    }
   ],
   "source": [
    "gen"
   ]
  },
  {
   "cell_type": "code",
   "execution_count": 45,
   "id": "7e4979a0",
   "metadata": {},
   "outputs": [
    {
     "data": {
      "text/plain": [
       "[0, 1, 2, 3, 4, 5, 6, 7, 8, 9]"
      ]
     },
     "execution_count": 45,
     "metadata": {},
     "output_type": "execute_result"
    }
   ],
   "source": [
    "list(gen)"
   ]
  },
  {
   "cell_type": "markdown",
   "id": "fe1d3aa7",
   "metadata": {},
   "source": [
    "### Adding and removing elements\n"
   ]
  },
  {
   "cell_type": "code",
   "execution_count": 46,
   "id": "625ec90c",
   "metadata": {},
   "outputs": [],
   "source": [
    "# Elements can be appended to the end of the list with the append method\n",
    "z_list.append('banana')"
   ]
  },
  {
   "cell_type": "code",
   "execution_count": 47,
   "id": "636bf55a",
   "metadata": {},
   "outputs": [
    {
     "data": {
      "text/plain": [
       "['mango', 'book', 'cat', 'banana']"
      ]
     },
     "execution_count": 47,
     "metadata": {},
     "output_type": "execute_result"
    }
   ],
   "source": [
    "z_list"
   ]
  },
  {
   "cell_type": "code",
   "execution_count": 48,
   "id": "e5eddabc",
   "metadata": {},
   "outputs": [],
   "source": [
    "# Using insert can insert an element at a specific location in the list\n",
    "z_list.insert(2, 'pine apple')"
   ]
  },
  {
   "cell_type": "code",
   "execution_count": 49,
   "id": "2902f58c",
   "metadata": {},
   "outputs": [
    {
     "data": {
      "text/plain": [
       "['mango', 'book', 'pine apple', 'cat', 'banana']"
      ]
     },
     "execution_count": 49,
     "metadata": {},
     "output_type": "execute_result"
    }
   ],
   "source": [
    "z_list"
   ]
  },
  {
   "cell_type": "code",
   "execution_count": 50,
   "id": "87fa000a",
   "metadata": {},
   "outputs": [
    {
     "data": {
      "text/plain": [
       "'book'"
      ]
     },
     "execution_count": 50,
     "metadata": {},
     "output_type": "execute_result"
    }
   ],
   "source": [
    "# The inverse operation to insert is pop, which removes and returns an element at a particular index\n",
    "z_list.pop(1)"
   ]
  },
  {
   "cell_type": "code",
   "execution_count": 51,
   "id": "a60aec75",
   "metadata": {},
   "outputs": [
    {
     "data": {
      "text/plain": [
       "['mango', 'pine apple', 'cat', 'banana']"
      ]
     },
     "execution_count": 51,
     "metadata": {},
     "output_type": "execute_result"
    }
   ],
   "source": [
    "z_list"
   ]
  },
  {
   "cell_type": "code",
   "execution_count": 52,
   "id": "30eee0ec",
   "metadata": {},
   "outputs": [
    {
     "data": {
      "text/plain": [
       "['mango', 'pine apple', 'cat', 'banana', 'dog']"
      ]
     },
     "execution_count": 52,
     "metadata": {},
     "output_type": "execute_result"
    }
   ],
   "source": [
    "# Elements can be removed by value with remove, which locates the first such value and removes it from the last\n",
    "z_list.append('dog')\n",
    "z_list"
   ]
  },
  {
   "cell_type": "code",
   "execution_count": 53,
   "id": "975b47eb",
   "metadata": {},
   "outputs": [
    {
     "data": {
      "text/plain": [
       "['mango', 'pine apple', 'cat', 'banana']"
      ]
     },
     "execution_count": 53,
     "metadata": {},
     "output_type": "execute_result"
    }
   ],
   "source": [
    "z_list.remove('dog')\n",
    "z_list"
   ]
  },
  {
   "cell_type": "code",
   "execution_count": 54,
   "id": "a086fa92",
   "metadata": {},
   "outputs": [
    {
     "data": {
      "text/plain": [
       "True"
      ]
     },
     "execution_count": 54,
     "metadata": {},
     "output_type": "execute_result"
    }
   ],
   "source": [
    "# Check if a list contains a value using the in keyword\n",
    "'dog' not in z_list"
   ]
  },
  {
   "cell_type": "code",
   "execution_count": 55,
   "id": "c40efdbb",
   "metadata": {},
   "outputs": [
    {
     "data": {
      "text/plain": [
       "False"
      ]
     },
     "execution_count": 55,
     "metadata": {},
     "output_type": "execute_result"
    }
   ],
   "source": [
    "'dog' in z_list"
   ]
  },
  {
   "cell_type": "code",
   "execution_count": 56,
   "id": "c8599181",
   "metadata": {},
   "outputs": [
    {
     "data": {
      "text/plain": [
       "False"
      ]
     },
     "execution_count": 56,
     "metadata": {},
     "output_type": "execute_result"
    }
   ],
   "source": [
    "'cat' not in z_list"
   ]
  },
  {
   "cell_type": "code",
   "execution_count": 57,
   "id": "1405da78",
   "metadata": {},
   "outputs": [
    {
     "data": {
      "text/plain": [
       "True"
      ]
     },
     "execution_count": 57,
     "metadata": {},
     "output_type": "execute_result"
    }
   ],
   "source": [
    "'cat' in z_list"
   ]
  },
  {
   "cell_type": "markdown",
   "id": "0b74c435",
   "metadata": {},
   "source": [
    "### Concatenating and combining lists"
   ]
  },
  {
   "cell_type": "code",
   "execution_count": 58,
   "id": "de830a18",
   "metadata": {},
   "outputs": [
    {
     "data": {
      "text/plain": [
       "[1, 2, 'dog', None, (2, 3), 8, 7]"
      ]
     },
     "execution_count": 58,
     "metadata": {},
     "output_type": "execute_result"
    }
   ],
   "source": [
    "# adding two lists together with + concatenates\n",
    "[1, 2, 'dog', None] + [(2,3), 8, 7]"
   ]
  },
  {
   "cell_type": "code",
   "execution_count": 59,
   "id": "c4f17757",
   "metadata": {},
   "outputs": [],
   "source": [
    "# append multiple elements to it using the extend method\n",
    "x = [3, 2, 4, 'foo', None]\n",
    "x.extend([2,3,4,5])"
   ]
  },
  {
   "cell_type": "code",
   "execution_count": 60,
   "id": "446c3248",
   "metadata": {},
   "outputs": [
    {
     "data": {
      "text/plain": [
       "[3, 2, 4, 'foo', None, 2, 3, 4, 5]"
      ]
     },
     "execution_count": 60,
     "metadata": {},
     "output_type": "execute_result"
    }
   ],
   "source": [
    "x"
   ]
  },
  {
   "cell_type": "code",
   "execution_count": 61,
   "id": "c74e48bf",
   "metadata": {},
   "outputs": [
    {
     "data": {
      "text/plain": [
       "[1, 2, 3, 4, 4, 4, 5, 6, 7, 3, 4, 5, 6]"
      ]
     },
     "execution_count": 61,
     "metadata": {},
     "output_type": "execute_result"
    }
   ],
   "source": [
    "lists = [[1,2,3,4,4], [4,5,6,7],[3,4,5,6]]\n",
    "extend_list = []\n",
    "for list_ in lists:\n",
    "    extend_list.extend(list_)\n",
    "    \n",
    "extend_list"
   ]
  },
  {
   "cell_type": "code",
   "execution_count": 62,
   "id": "05e1252b",
   "metadata": {},
   "outputs": [
    {
     "data": {
      "text/plain": [
       "[1, 2, 3, 4, 4, 4, 5, 6, 7, 3, 4, 5, 6]"
      ]
     },
     "execution_count": 62,
     "metadata": {},
     "output_type": "execute_result"
    }
   ],
   "source": [
    "lists = [[1,2,3,4,4], [4,5,6,7],[3,4,5,6]]\n",
    "extend_list = []\n",
    "for list_ in lists:\n",
    "    extend_list = extend_list + list_\n",
    "    \n",
    "extend_list"
   ]
  },
  {
   "cell_type": "markdown",
   "id": "67764a6e",
   "metadata": {},
   "source": [
    "### Sorting"
   ]
  },
  {
   "cell_type": "code",
   "execution_count": 63,
   "id": "6c6acea7",
   "metadata": {},
   "outputs": [],
   "source": [
    "# sort a list by calling its sort function\n",
    "\n",
    "extend_list.sort()"
   ]
  },
  {
   "cell_type": "code",
   "execution_count": 64,
   "id": "7c893c4c",
   "metadata": {},
   "outputs": [
    {
     "data": {
      "text/plain": [
       "[1, 2, 3, 3, 4, 4, 4, 4, 5, 5, 6, 6, 7]"
      ]
     },
     "execution_count": 64,
     "metadata": {},
     "output_type": "execute_result"
    }
   ],
   "source": [
    "extend_list"
   ]
  },
  {
   "cell_type": "code",
   "execution_count": 65,
   "id": "7d6b62f3",
   "metadata": {},
   "outputs": [
    {
     "data": {
      "text/plain": [
       "['mango', 'pine apple', 'cat', 'banana']"
      ]
     },
     "execution_count": 65,
     "metadata": {},
     "output_type": "execute_result"
    }
   ],
   "source": [
    "z_list"
   ]
  },
  {
   "cell_type": "code",
   "execution_count": 66,
   "id": "1bc17346",
   "metadata": {},
   "outputs": [
    {
     "data": {
      "text/plain": [
       "['cat', 'mango', 'banana', 'pine apple']"
      ]
     },
     "execution_count": 66,
     "metadata": {},
     "output_type": "execute_result"
    }
   ],
   "source": [
    "# sort by length\n",
    "z_list.sort(key=len)\n",
    "z_list"
   ]
  },
  {
   "cell_type": "markdown",
   "id": "db72b1ee",
   "metadata": {},
   "source": [
    "### Binary search and maintaining a sorted list"
   ]
  },
  {
   "cell_type": "code",
   "execution_count": 67,
   "id": "2853063f",
   "metadata": {},
   "outputs": [],
   "source": [
    "# bisect.bisect finds the location where an element should be inserted to keep it sorted\n",
    "import bisect"
   ]
  },
  {
   "cell_type": "code",
   "execution_count": 68,
   "id": "fcab7904",
   "metadata": {},
   "outputs": [
    {
     "data": {
      "text/plain": [
       "[1, 2, 3, 3, 4, 4, 4, 4, 5, 5, 6, 6, 7]"
      ]
     },
     "execution_count": 68,
     "metadata": {},
     "output_type": "execute_result"
    }
   ],
   "source": [
    "extend_list"
   ]
  },
  {
   "cell_type": "code",
   "execution_count": 69,
   "id": "6ec8363e",
   "metadata": {},
   "outputs": [
    {
     "data": {
      "text/plain": [
       "2"
      ]
     },
     "execution_count": 69,
     "metadata": {},
     "output_type": "execute_result"
    }
   ],
   "source": [
    "bisect.bisect(extend_list, 2)"
   ]
  },
  {
   "cell_type": "code",
   "execution_count": 70,
   "id": "f3791f2d",
   "metadata": {},
   "outputs": [
    {
     "data": {
      "text/plain": [
       "[1, 2, 4, 5, 6, 7, 9]"
      ]
     },
     "execution_count": 70,
     "metadata": {},
     "output_type": "execute_result"
    }
   ],
   "source": [
    "a = [1,2,4,5,6,7,9]\n",
    "a"
   ]
  },
  {
   "cell_type": "code",
   "execution_count": 71,
   "id": "06d6120d",
   "metadata": {},
   "outputs": [
    {
     "data": {
      "text/plain": [
       "6"
      ]
     },
     "execution_count": 71,
     "metadata": {},
     "output_type": "execute_result"
    }
   ],
   "source": [
    "bisect.bisect(a,8)"
   ]
  },
  {
   "cell_type": "markdown",
   "id": "8a3e1134",
   "metadata": {},
   "source": [
    "### Slicing\n"
   ]
  },
  {
   "cell_type": "code",
   "execution_count": 72,
   "id": "0cd6919c",
   "metadata": {},
   "outputs": [
    {
     "data": {
      "text/plain": [
       "[3, 4, 5]"
      ]
     },
     "execution_count": 72,
     "metadata": {},
     "output_type": "execute_result"
    }
   ],
   "source": [
    "a_list = [1,2,3,4,5,6,7,8,9]\n",
    "a_list[2:5] # select values by start:stop-1 index "
   ]
  },
  {
   "cell_type": "code",
   "execution_count": 73,
   "id": "e2baaf0c",
   "metadata": {},
   "outputs": [],
   "source": [
    "# Slices can also be assigned to with a sequence\n",
    "a_list[4:6] = [8,9]"
   ]
  },
  {
   "cell_type": "code",
   "execution_count": 74,
   "id": "b43e84cf",
   "metadata": {},
   "outputs": [
    {
     "data": {
      "text/plain": [
       "[1, 2, 3, 4, 8, 9, 7, 8, 9]"
      ]
     },
     "execution_count": 74,
     "metadata": {},
     "output_type": "execute_result"
    }
   ],
   "source": [
    "a_list"
   ]
  },
  {
   "cell_type": "code",
   "execution_count": 75,
   "id": "54275b4a",
   "metadata": {},
   "outputs": [
    {
     "data": {
      "text/plain": [
       "[1, 2, 3, 4, 8]"
      ]
     },
     "execution_count": 75,
     "metadata": {},
     "output_type": "execute_result"
    }
   ],
   "source": [
    "a_list[:5]"
   ]
  },
  {
   "cell_type": "code",
   "execution_count": 76,
   "id": "b2de4433",
   "metadata": {},
   "outputs": [
    {
     "data": {
      "text/plain": [
       "[9, 7, 8, 9]"
      ]
     },
     "execution_count": 76,
     "metadata": {},
     "output_type": "execute_result"
    }
   ],
   "source": [
    "a_list[5:]"
   ]
  },
  {
   "cell_type": "code",
   "execution_count": 77,
   "id": "9a17b43b",
   "metadata": {},
   "outputs": [
    {
     "data": {
      "text/plain": [
       "[1, 2, 3, 4, 8]"
      ]
     },
     "execution_count": 77,
     "metadata": {},
     "output_type": "execute_result"
    }
   ],
   "source": [
    "# Negative indices slice the sequence relative to the end\n",
    "a_list[:-4]"
   ]
  },
  {
   "cell_type": "code",
   "execution_count": 78,
   "id": "f751d4a4",
   "metadata": {},
   "outputs": [
    {
     "data": {
      "text/plain": [
       "[3, 4, 8, 9]"
      ]
     },
     "execution_count": 78,
     "metadata": {},
     "output_type": "execute_result"
    }
   ],
   "source": [
    "a_list[-7:-3]"
   ]
  },
  {
   "cell_type": "code",
   "execution_count": 79,
   "id": "f033a795",
   "metadata": {},
   "outputs": [
    {
     "data": {
      "text/plain": [
       "[1, 3, 8, 7, 9]"
      ]
     },
     "execution_count": 79,
     "metadata": {},
     "output_type": "execute_result"
    }
   ],
   "source": [
    "# A step can also be used after a second colon to, say, take every other element\n",
    "a_list[::2]"
   ]
  },
  {
   "cell_type": "code",
   "execution_count": 80,
   "id": "c7f6d6c5",
   "metadata": {},
   "outputs": [
    {
     "data": {
      "text/plain": [
       "[9, 8, 7, 9, 8, 4, 3, 2, 1]"
      ]
     },
     "execution_count": 80,
     "metadata": {},
     "output_type": "execute_result"
    }
   ],
   "source": [
    "# A clever use of this is to pass -1, which has the useful effect of reversing a list or tuple\n",
    "a_list[::-1]"
   ]
  },
  {
   "cell_type": "markdown",
   "id": "a7b33560",
   "metadata": {},
   "source": [
    "### Built-in Sequence Functions"
   ]
  },
  {
   "cell_type": "markdown",
   "id": "8d3a9b0b",
   "metadata": {},
   "source": [
    "### Enumerate"
   ]
  },
  {
   "cell_type": "code",
   "execution_count": 81,
   "id": "2e0a1da1",
   "metadata": {},
   "outputs": [
    {
     "name": "stdout",
     "output_type": "stream",
     "text": [
      "index-0 = value-1\n",
      "index-1 = value-2\n",
      "index-2 = value-3\n",
      "index-3 = value-4\n",
      "index-4 = value-8\n",
      "index-5 = value-9\n",
      "index-6 = value-7\n",
      "index-7 = value-8\n",
      "index-8 = value-9\n"
     ]
    }
   ],
   "source": [
    "# Python has a built-in function, enumerate, which returns a sequence of (i, value) tuples\n",
    "for i, value in enumerate(a_list):\n",
    "    print('index-{0} = value-{1}'.format(i, value))"
   ]
  },
  {
   "cell_type": "code",
   "execution_count": 82,
   "id": "591f28b7",
   "metadata": {},
   "outputs": [
    {
     "data": {
      "text/plain": [
       "{0: 1, 1: 2, 2: 3, 3: 4, 4: 8, 5: 9, 6: 7, 7: 8, 8: 9}"
      ]
     },
     "execution_count": 82,
     "metadata": {},
     "output_type": "execute_result"
    }
   ],
   "source": [
    "map_dict = {}\n",
    "for i, v in enumerate(a_list):\n",
    "    map_dict[i]=v\n",
    "map_dict"
   ]
  },
  {
   "cell_type": "markdown",
   "id": "0cfafcf0",
   "metadata": {},
   "source": [
    "### sorted"
   ]
  },
  {
   "cell_type": "code",
   "execution_count": 83,
   "id": "c18af278",
   "metadata": {},
   "outputs": [
    {
     "data": {
      "text/plain": [
       "[0, 1, 2, 2, 3, 4, 5, 6, 7, 9]"
      ]
     },
     "execution_count": 83,
     "metadata": {},
     "output_type": "execute_result"
    }
   ],
   "source": [
    "# The sorted function returns a new sorted list from the elements of any sequence:\n",
    "sorted([9, 4, 3, 2, 1, 0, 7, 2, 6, 5])"
   ]
  },
  {
   "cell_type": "code",
   "execution_count": 84,
   "id": "da1a79e8",
   "metadata": {},
   "outputs": [
    {
     "data": {
      "text/plain": [
       "[' ', 'd', 'e', 'h', 'l', 'l', 'l', 'o', 'o', 'r', 'w']"
      ]
     },
     "execution_count": 84,
     "metadata": {},
     "output_type": "execute_result"
    }
   ],
   "source": [
    "sorted('hello world')"
   ]
  },
  {
   "cell_type": "markdown",
   "id": "497a4c2a",
   "metadata": {},
   "source": [
    "### zip"
   ]
  },
  {
   "cell_type": "code",
   "execution_count": 85,
   "id": "bc6fe439",
   "metadata": {},
   "outputs": [],
   "source": [
    "# zip “pairs” up the elements of a number of lists, tuples, or other sequences to create a list of tuples\n",
    "list_1 = ['dog', 'cat', 'loin']"
   ]
  },
  {
   "cell_type": "code",
   "execution_count": 86,
   "id": "a20da29a",
   "metadata": {},
   "outputs": [],
   "source": [
    "list_2 = ['four', 'five', 'six']"
   ]
  },
  {
   "cell_type": "code",
   "execution_count": 87,
   "id": "a6001d6c",
   "metadata": {},
   "outputs": [],
   "source": [
    "zipped_list = zip(list_1, list_2)"
   ]
  },
  {
   "cell_type": "code",
   "execution_count": 88,
   "id": "3b03849f",
   "metadata": {},
   "outputs": [
    {
     "data": {
      "text/plain": [
       "[('dog', 'four'), ('cat', 'five'), ('loin', 'six')]"
      ]
     },
     "execution_count": 88,
     "metadata": {},
     "output_type": "execute_result"
    }
   ],
   "source": [
    "list(zipped_list)"
   ]
  },
  {
   "cell_type": "code",
   "execution_count": 89,
   "id": "79276442",
   "metadata": {},
   "outputs": [
    {
     "data": {
      "text/plain": [
       "[('dog', 'four', 4), ('cat', 'five', 5), ('loin', 'six', 6)]"
      ]
     },
     "execution_count": 89,
     "metadata": {},
     "output_type": "execute_result"
    }
   ],
   "source": [
    "list_3 = [4, 5, 6]\n",
    "list(zip(list_1, list_2, list_3))"
   ]
  },
  {
   "cell_type": "code",
   "execution_count": 90,
   "id": "d2c73315",
   "metadata": {},
   "outputs": [
    {
     "name": "stdout",
     "output_type": "stream",
     "text": [
      "0: dog - four - 4\n",
      "1: cat - five - 5\n",
      "2: loin - six - 6\n"
     ]
    }
   ],
   "source": [
    "for i, (a, b, c) in enumerate(zip(list_1, list_2, list_3)):\n",
    "    print(f'{i}: {a} - {b} - {c}')"
   ]
  },
  {
   "cell_type": "code",
   "execution_count": 91,
   "id": "46152275",
   "metadata": {},
   "outputs": [],
   "source": [
    "players = [('Aneel', 'Kumar'), ('Kapil', 'Dev'), ('Sachin', 'Tandolkar')]\n",
    "first_names, last_names = zip(*players)"
   ]
  },
  {
   "cell_type": "code",
   "execution_count": 92,
   "id": "2f596877",
   "metadata": {},
   "outputs": [
    {
     "data": {
      "text/plain": [
       "('Aneel', 'Kapil', 'Sachin')"
      ]
     },
     "execution_count": 92,
     "metadata": {},
     "output_type": "execute_result"
    }
   ],
   "source": [
    "first_names"
   ]
  },
  {
   "cell_type": "code",
   "execution_count": 93,
   "id": "679bccbc",
   "metadata": {},
   "outputs": [
    {
     "data": {
      "text/plain": [
       "('Kumar', 'Dev', 'Tandolkar')"
      ]
     },
     "execution_count": 93,
     "metadata": {},
     "output_type": "execute_result"
    }
   ],
   "source": [
    "last_names"
   ]
  },
  {
   "cell_type": "markdown",
   "id": "3f04f96f",
   "metadata": {},
   "source": [
    "### reversed"
   ]
  },
  {
   "cell_type": "code",
   "execution_count": 94,
   "id": "e4ad8b90",
   "metadata": {},
   "outputs": [
    {
     "data": {
      "text/plain": [
       "[14, 13, 12, 11, 10, 9, 8, 7, 6, 5, 4, 3, 2, 1, 0]"
      ]
     },
     "execution_count": 94,
     "metadata": {},
     "output_type": "execute_result"
    }
   ],
   "source": [
    "# reversed iterates over the elements of a sequence in reverse order:\n",
    "list(reversed(range(15)))"
   ]
  },
  {
   "cell_type": "markdown",
   "id": "62e14ee2",
   "metadata": {},
   "source": [
    "### dictionary"
   ]
  },
  {
   "cell_type": "code",
   "execution_count": 95,
   "id": "bffd07d8",
   "metadata": {},
   "outputs": [],
   "source": [
    "empty_dict = {}\n",
    "dict_1 = {'x' : 'num_list', 'y' : [4, 5, 6, 7]}"
   ]
  },
  {
   "cell_type": "code",
   "execution_count": 96,
   "id": "0e34616e",
   "metadata": {},
   "outputs": [
    {
     "data": {
      "text/plain": [
       "{'x': 'num_list', 'y': [4, 5, 6, 7]}"
      ]
     },
     "execution_count": 96,
     "metadata": {},
     "output_type": "execute_result"
    }
   ],
   "source": [
    "dict_1"
   ]
  },
  {
   "cell_type": "code",
   "execution_count": 97,
   "id": "3223fe4b",
   "metadata": {},
   "outputs": [
    {
     "data": {
      "text/plain": [
       "{'x': 'num_list', 'y': [4, 5, 6, 7], 'z': 'integer list'}"
      ]
     },
     "execution_count": 97,
     "metadata": {},
     "output_type": "execute_result"
    }
   ],
   "source": [
    "# access, insert, or set elements using the same syntax as for accessing elements of a list or tuple:\n",
    "dict_1['z'] = 'integer list'\n",
    "dict_1"
   ]
  },
  {
   "cell_type": "code",
   "execution_count": 98,
   "id": "d3624f58",
   "metadata": {},
   "outputs": [
    {
     "data": {
      "text/plain": [
       "[4, 5, 6, 7]"
      ]
     },
     "execution_count": 98,
     "metadata": {},
     "output_type": "execute_result"
    }
   ],
   "source": [
    "dict_1['y']"
   ]
  },
  {
   "cell_type": "code",
   "execution_count": 99,
   "id": "69019158",
   "metadata": {},
   "outputs": [
    {
     "data": {
      "text/plain": [
       "True"
      ]
     },
     "execution_count": 99,
     "metadata": {},
     "output_type": "execute_result"
    }
   ],
   "source": [
    "#check if a dict contains a key using the same syntax used for checking whether a list or tuple contains a value\n",
    "'y' in dict_1"
   ]
  },
  {
   "cell_type": "code",
   "execution_count": 100,
   "id": "ec74806b",
   "metadata": {},
   "outputs": [
    {
     "data": {
      "text/plain": [
       "{'x': 'num_list', 'y': [4, 5, 6, 7], 'z': 'integer list', 'a': 'values list'}"
      ]
     },
     "execution_count": 100,
     "metadata": {},
     "output_type": "execute_result"
    }
   ],
   "source": [
    "# can delete values either using the del keyword or the pop method (which simultaneously returns the value and deletes the key)\n",
    "dict_1['a'] = 'values list'\n",
    "dict_1"
   ]
  },
  {
   "cell_type": "code",
   "execution_count": 101,
   "id": "00c60cd6",
   "metadata": {},
   "outputs": [
    {
     "data": {
      "text/plain": [
       "{'x': 'num_list',\n",
       " 'y': [4, 5, 6, 7],\n",
       " 'z': 'integer list',\n",
       " 'a': 'values list',\n",
       " 'b': (1, 2, 3, 4)}"
      ]
     },
     "execution_count": 101,
     "metadata": {},
     "output_type": "execute_result"
    }
   ],
   "source": [
    "dict_1['b'] = (1,2,3,4)\n",
    "dict_1"
   ]
  },
  {
   "cell_type": "code",
   "execution_count": 102,
   "id": "49dbcff3",
   "metadata": {},
   "outputs": [
    {
     "data": {
      "text/plain": [
       "{'x': 'num_list', 'y': [4, 5, 6, 7], 'z': 'integer list', 'b': (1, 2, 3, 4)}"
      ]
     },
     "execution_count": 102,
     "metadata": {},
     "output_type": "execute_result"
    }
   ],
   "source": [
    "del dict_1['a']\n",
    "dict_1"
   ]
  },
  {
   "cell_type": "code",
   "execution_count": 103,
   "id": "d0ecc6f3",
   "metadata": {},
   "outputs": [
    {
     "data": {
      "text/plain": [
       "(1, 2, 3, 4)"
      ]
     },
     "execution_count": 103,
     "metadata": {},
     "output_type": "execute_result"
    }
   ],
   "source": [
    "temp = dict_1.pop('b')\n",
    "temp"
   ]
  },
  {
   "cell_type": "code",
   "execution_count": 104,
   "id": "a6b01cbd",
   "metadata": {},
   "outputs": [
    {
     "data": {
      "text/plain": [
       "{'x': 'num_list', 'y': [4, 5, 6, 7], 'z': 'integer list'}"
      ]
     },
     "execution_count": 104,
     "metadata": {},
     "output_type": "execute_result"
    }
   ],
   "source": [
    "dict_1"
   ]
  },
  {
   "cell_type": "code",
   "execution_count": 105,
   "id": "cbd3b474",
   "metadata": {},
   "outputs": [
    {
     "data": {
      "text/plain": [
       "['num_list', [4, 5, 6, 7], 'integer list']"
      ]
     },
     "execution_count": 105,
     "metadata": {},
     "output_type": "execute_result"
    }
   ],
   "source": [
    "list(dict_1.values())"
   ]
  },
  {
   "cell_type": "code",
   "execution_count": 106,
   "id": "d8a20228",
   "metadata": {},
   "outputs": [
    {
     "data": {
      "text/plain": [
       "{'x': 'num_list', 'y': [4, 5, 6, 7], 'z': 'integer list', 'a': 'bar', 'b': 20}"
      ]
     },
     "execution_count": 106,
     "metadata": {},
     "output_type": "execute_result"
    }
   ],
   "source": [
    "# can merge one dict into another using the update method:\n",
    "dict_1.update({'a' : 'bar', 'b' : 20})\n",
    "dict_1"
   ]
  },
  {
   "cell_type": "markdown",
   "id": "a8433836",
   "metadata": {},
   "source": [
    "### Creating dicts from sequences"
   ]
  },
  {
   "cell_type": "code",
   "execution_count": 107,
   "id": "6831e646",
   "metadata": {},
   "outputs": [
    {
     "data": {
      "text/plain": [
       "{'a': 'dog', 'b': 'cat', 'c': 'lion', 'd': 'deer'}"
      ]
     },
     "execution_count": 107,
     "metadata": {},
     "output_type": "execute_result"
    }
   ],
   "source": [
    "key_list = ['a','b','c','d']\n",
    "value_list = ['dog', 'cat', 'lion', 'deer']\n",
    "\n",
    "dict_maping = {}\n",
    "\n",
    "for i, v in zip(key_list, value_list):\n",
    "    dict_maping[i] = v\n",
    "    \n",
    "dict_maping"
   ]
  },
  {
   "cell_type": "code",
   "execution_count": 108,
   "id": "ed11f47e",
   "metadata": {},
   "outputs": [],
   "source": [
    "dict_maping1 = dict(zip(key_list, value_list))"
   ]
  },
  {
   "cell_type": "code",
   "execution_count": 109,
   "id": "2b261c9c",
   "metadata": {},
   "outputs": [
    {
     "data": {
      "text/plain": [
       "{'a': 'dog', 'b': 'cat', 'c': 'lion', 'd': 'deer'}"
      ]
     },
     "execution_count": 109,
     "metadata": {},
     "output_type": "execute_result"
    }
   ],
   "source": [
    "dict_maping1"
   ]
  },
  {
   "cell_type": "code",
   "execution_count": 110,
   "id": "c142237b",
   "metadata": {},
   "outputs": [],
   "source": [
    "dict_maping2 = dict(zip(range(10), reversed(range(10))))"
   ]
  },
  {
   "cell_type": "code",
   "execution_count": 111,
   "id": "a289cee8",
   "metadata": {},
   "outputs": [
    {
     "data": {
      "text/plain": [
       "{0: 9, 1: 8, 2: 7, 3: 6, 4: 5, 5: 4, 6: 3, 7: 2, 8: 1, 9: 0}"
      ]
     },
     "execution_count": 111,
     "metadata": {},
     "output_type": "execute_result"
    }
   ],
   "source": [
    "dict_maping2"
   ]
  },
  {
   "cell_type": "markdown",
   "id": "d54952ff",
   "metadata": {},
   "source": [
    "### Default values"
   ]
  },
  {
   "cell_type": "code",
   "execution_count": 112,
   "id": "b0283fb6",
   "metadata": {},
   "outputs": [
    {
     "data": {
      "text/plain": [
       "{'a': ['apple', 'atom'], 'b': ['bat', 'bar', 'book']}"
      ]
     },
     "execution_count": 112,
     "metadata": {},
     "output_type": "execute_result"
    }
   ],
   "source": [
    "# categorizing a list of words by their first letters as a dict of lists\n",
    "words = ['apple', 'bat', 'bar', 'atom', 'book']\n",
    "\n",
    "by_letter = {}\n",
    "for word in words:\n",
    "    letter = word[0]\n",
    "    if letter not in by_letter:\n",
    "        by_letter[letter] = [word]\n",
    "    else:\n",
    "        by_letter[letter].append(word)\n",
    "by_letter"
   ]
  },
  {
   "cell_type": "code",
   "execution_count": 113,
   "id": "4b503f9c",
   "metadata": {},
   "outputs": [],
   "source": [
    "# The setdefault dict method is for precisely this purpose. The preceding for loop can be rewritten as\n",
    "for word in words:\n",
    "    letter = word[0]\n",
    "    by_letter.setdefault(letter, []).append(word)"
   ]
  },
  {
   "cell_type": "code",
   "execution_count": 114,
   "id": "9d6bba3a",
   "metadata": {},
   "outputs": [
    {
     "data": {
      "text/plain": [
       "{'a': ['apple', 'atom', 'apple', 'atom'],\n",
       " 'b': ['bat', 'bar', 'book', 'bat', 'bar', 'book']}"
      ]
     },
     "execution_count": 114,
     "metadata": {},
     "output_type": "execute_result"
    }
   ],
   "source": [
    "by_letter"
   ]
  },
  {
   "cell_type": "code",
   "execution_count": 115,
   "id": "65e3e0e3",
   "metadata": {},
   "outputs": [
    {
     "data": {
      "text/plain": [
       "defaultdict(list, {'a': ['apple', 'atom'], 'b': ['bat', 'bar', 'book']})"
      ]
     },
     "execution_count": 115,
     "metadata": {},
     "output_type": "execute_result"
    }
   ],
   "source": [
    "from collections import defaultdict\n",
    "by_letter = defaultdict(list)\n",
    "for word in words:\n",
    "    by_letter[word[0]].append(word)\n",
    "by_letter"
   ]
  },
  {
   "cell_type": "markdown",
   "id": "8d2750b7",
   "metadata": {},
   "source": [
    "### Valid dict key types"
   ]
  },
  {
   "cell_type": "code",
   "execution_count": 116,
   "id": "0bdce1b9",
   "metadata": {},
   "outputs": [
    {
     "data": {
      "text/plain": [
       "4257420496554130216"
      ]
     },
     "execution_count": 116,
     "metadata": {},
     "output_type": "execute_result"
    }
   ],
   "source": [
    "# The technical term here is hashability. To check whether an object is hashable (can be used as a key in a dict) with the hash function\n",
    "hash('string')"
   ]
  },
  {
   "cell_type": "code",
   "execution_count": 117,
   "id": "2d69ecfa",
   "metadata": {},
   "outputs": [
    {
     "data": {
      "text/plain": [
       "-9209053662355515447"
      ]
     },
     "execution_count": 117,
     "metadata": {},
     "output_type": "execute_result"
    }
   ],
   "source": [
    "hash((1, 2, (2, 3)))"
   ]
  },
  {
   "cell_type": "code",
   "execution_count": 118,
   "id": "c146f8c4",
   "metadata": {},
   "outputs": [
    {
     "ename": "TypeError",
     "evalue": "unhashable type: 'list'",
     "output_type": "error",
     "traceback": [
      "\u001b[1;31m---------------------------------------------------------------------------\u001b[0m",
      "\u001b[1;31mTypeError\u001b[0m                                 Traceback (most recent call last)",
      "Input \u001b[1;32mIn [118]\u001b[0m, in \u001b[0;36m<cell line: 1>\u001b[1;34m()\u001b[0m\n\u001b[1;32m----> 1\u001b[0m \u001b[38;5;28;43mhash\u001b[39;49m\u001b[43m(\u001b[49m\u001b[43m(\u001b[49m\u001b[38;5;241;43m1\u001b[39;49m\u001b[43m,\u001b[49m\u001b[43m \u001b[49m\u001b[38;5;241;43m2\u001b[39;49m\u001b[43m,\u001b[49m\u001b[43m \u001b[49m\u001b[43m[\u001b[49m\u001b[38;5;241;43m2\u001b[39;49m\u001b[43m,\u001b[49m\u001b[43m \u001b[49m\u001b[38;5;241;43m3\u001b[39;49m\u001b[43m]\u001b[49m\u001b[43m)\u001b[49m\u001b[43m)\u001b[49m\n",
      "\u001b[1;31mTypeError\u001b[0m: unhashable type: 'list'"
     ]
    }
   ],
   "source": [
    "hash((1, 2, [2, 3])) # fails because lists are mutable"
   ]
  },
  {
   "cell_type": "code",
   "execution_count": 119,
   "id": "7c5f1b6d",
   "metadata": {},
   "outputs": [
    {
     "data": {
      "text/plain": [
       "{(1, 2, 3): 5}"
      ]
     },
     "execution_count": 119,
     "metadata": {},
     "output_type": "execute_result"
    }
   ],
   "source": [
    "dict_ = {}\n",
    "dict_[tuple([1, 2, 3])] = 5\n",
    "dict_"
   ]
  },
  {
   "cell_type": "markdown",
   "id": "67cd17c7",
   "metadata": {},
   "source": [
    "### Set"
   ]
  },
  {
   "cell_type": "code",
   "execution_count": 120,
   "id": "7c083e93",
   "metadata": {},
   "outputs": [
    {
     "data": {
      "text/plain": [
       "{1, 2, 3}"
      ]
     },
     "execution_count": 120,
     "metadata": {},
     "output_type": "execute_result"
    }
   ],
   "source": [
    "# A set can be created in two ways: via the set function or via a set literal with curly braces\n",
    "set([1, 2, 3, 1, 2, 3])"
   ]
  },
  {
   "cell_type": "code",
   "execution_count": 121,
   "id": "166d173e",
   "metadata": {},
   "outputs": [
    {
     "data": {
      "text/plain": [
       "{1, 2, 3}"
      ]
     },
     "execution_count": 121,
     "metadata": {},
     "output_type": "execute_result"
    }
   ],
   "source": [
    "{1, 1, 1, 2, 2, 2, 3, 3, 3}"
   ]
  },
  {
   "cell_type": "code",
   "execution_count": 122,
   "id": "59414700",
   "metadata": {},
   "outputs": [
    {
     "data": {
      "text/plain": [
       "{1, 2, 3, 4, 5, 6, 8, 10}"
      ]
     },
     "execution_count": 122,
     "metadata": {},
     "output_type": "execute_result"
    }
   ],
   "source": [
    "# Sets support mathematical set operations like union, intersection, difference, and symmetric difference\n",
    "a = {1, 2, 3, 4, 5}\n",
    "b = {2, 4, 6, 8, 10}\n",
    "\n",
    "# Union of set\n",
    "a.union(b)"
   ]
  },
  {
   "cell_type": "code",
   "execution_count": 123,
   "id": "6c8775b6",
   "metadata": {},
   "outputs": [
    {
     "data": {
      "text/plain": [
       "{1, 2, 3, 4, 5, 6, 8, 10}"
      ]
     },
     "execution_count": 123,
     "metadata": {},
     "output_type": "execute_result"
    }
   ],
   "source": [
    "# Union of set\n",
    "a | b"
   ]
  },
  {
   "cell_type": "code",
   "execution_count": 124,
   "id": "8b4c1c3b",
   "metadata": {},
   "outputs": [
    {
     "data": {
      "text/plain": [
       "{2, 4}"
      ]
     },
     "execution_count": 124,
     "metadata": {},
     "output_type": "execute_result"
    }
   ],
   "source": [
    "# Intersection of set\n",
    "a.intersection(b)"
   ]
  },
  {
   "cell_type": "code",
   "execution_count": 125,
   "id": "eb04685a",
   "metadata": {},
   "outputs": [
    {
     "data": {
      "text/plain": [
       "{2, 4}"
      ]
     },
     "execution_count": 125,
     "metadata": {},
     "output_type": "execute_result"
    }
   ],
   "source": [
    "a & b"
   ]
  },
  {
   "cell_type": "code",
   "execution_count": 126,
   "id": "5129adee",
   "metadata": {},
   "outputs": [
    {
     "data": {
      "text/plain": [
       "{1, 3, 5}"
      ]
     },
     "execution_count": 126,
     "metadata": {},
     "output_type": "execute_result"
    }
   ],
   "source": [
    "# Difference of set\n",
    "a.difference(b)"
   ]
  },
  {
   "cell_type": "code",
   "execution_count": 127,
   "id": "ad9764b6",
   "metadata": {},
   "outputs": [],
   "source": [
    "### Python set operations\n",
    "#### Function Alternative           ---              syntax    --   Description\n",
    "\n",
    "# 1 -    a.add(x)                           N/A       Add element x to the set a\n",
    "# 2 -    a.clear()                          N/A       Reset the set a to an empty state, discarding all of its elements\n",
    "# 3 -    a.remove(x)                        N/A       Remove element x from the set a\n",
    "# 4 -    a.pop()                            N/A       Remove an arbitrary element from the set a, raising KeyError if the set is empty\n",
    "# 5 -    a.union(b)                        a | b      All of the unique elements in a and b\n",
    "# 6 -    a.update(b)                       a |= b     Set the contents of a to be the union of the elements in a and b\n",
    "# 7 -    a.intersection(b)                 a & b      All of the elements in both a and b\n",
    "# 8 -    a.intersection_update(b)          a &= b     Set the contents of a to be the intersection of the elements in a and b\n",
    "# 9 -    a.difference(b)                   a - b      The elements in a that are not in b\n",
    "# 10 -   a.difference_update(b)            a -= b     Set a to the elements in a that are not in b\n",
    "# 11 -   a.symmetric_difference(b)         a ^ b      All of the elements in either a or b but not both\n",
    "# 12 -   a.symmetric_difference_update(b)  a ^= b     Set a to contain the elements in either a or b but not both\n",
    "# 13 -   a.issubset(b)                      N/A       True if the elements of a are all contained in b\n",
    "# 14 -   a.issuperset(b)                    N/A       True if the elements of b are all contained in a\n",
    "# 15 -   a.isdisjoint(b)                    N/A       True if a and b have no elements in common"
   ]
  },
  {
   "cell_type": "code",
   "execution_count": 128,
   "id": "fb0767f8",
   "metadata": {},
   "outputs": [
    {
     "data": {
      "text/plain": [
       "{1, 2, 3, 4, 5, 6, 8, 10}"
      ]
     },
     "execution_count": 128,
     "metadata": {},
     "output_type": "execute_result"
    }
   ],
   "source": [
    "c = a.copy()\n",
    "c |= b\n",
    "c"
   ]
  },
  {
   "cell_type": "code",
   "execution_count": 129,
   "id": "fca01ca9",
   "metadata": {},
   "outputs": [
    {
     "data": {
      "text/plain": [
       "{2, 4}"
      ]
     },
     "execution_count": 129,
     "metadata": {},
     "output_type": "execute_result"
    }
   ],
   "source": [
    "d = a.copy()\n",
    "d &= b\n",
    "d"
   ]
  },
  {
   "cell_type": "code",
   "execution_count": 130,
   "id": "9de5bf7f",
   "metadata": {},
   "outputs": [
    {
     "data": {
      "text/plain": [
       "{(1, 2, 3, 4)}"
      ]
     },
     "execution_count": 130,
     "metadata": {},
     "output_type": "execute_result"
    }
   ],
   "source": [
    "my_data = [1, 2, 3, 4]\n",
    "my_set = {tuple(my_data)}\n",
    "my_set"
   ]
  },
  {
   "cell_type": "code",
   "execution_count": 131,
   "id": "d0bba409",
   "metadata": {},
   "outputs": [
    {
     "data": {
      "text/plain": [
       "True"
      ]
     },
     "execution_count": 131,
     "metadata": {},
     "output_type": "execute_result"
    }
   ],
   "source": [
    "a_set = {1, 2, 3, 4, 5}\n",
    "{1, 2, 3}.issubset(a_set)"
   ]
  },
  {
   "cell_type": "code",
   "execution_count": 132,
   "id": "3347f968",
   "metadata": {},
   "outputs": [
    {
     "data": {
      "text/plain": [
       "True"
      ]
     },
     "execution_count": 132,
     "metadata": {},
     "output_type": "execute_result"
    }
   ],
   "source": [
    "a_set.issuperset({1, 2, 3})"
   ]
  },
  {
   "cell_type": "code",
   "execution_count": 133,
   "id": "a6360dc1",
   "metadata": {},
   "outputs": [
    {
     "data": {
      "text/plain": [
       "True"
      ]
     },
     "execution_count": 133,
     "metadata": {},
     "output_type": "execute_result"
    }
   ],
   "source": [
    "{1, 2, 3} == {3, 2, 1}"
   ]
  },
  {
   "cell_type": "markdown",
   "id": "759120da",
   "metadata": {},
   "source": [
    "### List, Set, and Dict Comprehensions"
   ]
  },
  {
   "cell_type": "code",
   "execution_count": 137,
   "id": "d5c67d43",
   "metadata": {},
   "outputs": [
    {
     "data": {
      "text/plain": [
       "['RAJESH', 'SANTOSH']"
      ]
     },
     "execution_count": 137,
     "metadata": {},
     "output_type": "execute_result"
    }
   ],
   "source": [
    "# [expr for val in collection if condition]\n",
    "\n",
    "names = ['amar', 'aneel', 'Vivek', 'rajesh', 'santosh']\n",
    "# select names has length grater then 5 and capatilize the words\n",
    "[name.upper() for name in names if len(name) > 5]"
   ]
  },
  {
   "cell_type": "code",
   "execution_count": 139,
   "id": "dd33d7f2",
   "metadata": {},
   "outputs": [
    {
     "data": {
      "text/plain": [
       "['AMAR', 'ANEEL', 'VIVEK']"
      ]
     },
     "execution_count": 139,
     "metadata": {},
     "output_type": "execute_result"
    }
   ],
   "source": [
    "[name.upper() for name in names if len(name) <= 5]"
   ]
  },
  {
   "cell_type": "code",
   "execution_count": 140,
   "id": "8225cb53",
   "metadata": {},
   "outputs": [
    {
     "data": {
      "text/plain": [
       "['Amar', 'Aneel', 'Vivek']"
      ]
     },
     "execution_count": 140,
     "metadata": {},
     "output_type": "execute_result"
    }
   ],
   "source": [
    "[name.title() for name in names if len(name) <= 5]"
   ]
  },
  {
   "cell_type": "code",
   "execution_count": 141,
   "id": "bddc5fef",
   "metadata": {},
   "outputs": [],
   "source": [
    "### Set and dict comprehensions are a natural extension, producing sets and dicts in an \n",
    "# idiomatically similar way instead of lists.\n",
    "\n",
    "#dict_comp = {key-expr : value-expr for value in collection if condition}\n",
    "\n",
    "### A set comprehension looks like the equivalent list comprehension except with curly braces instead of square brackets:\n",
    "# set_comp = {expr for value in collection if condition}"
   ]
  },
  {
   "cell_type": "code",
   "execution_count": 142,
   "id": "7676b07c",
   "metadata": {},
   "outputs": [],
   "source": [
    "## unique lengths of names list \n",
    "unique_len = {len(name) for name in names}"
   ]
  },
  {
   "cell_type": "code",
   "execution_count": 143,
   "id": "5a646229",
   "metadata": {},
   "outputs": [
    {
     "data": {
      "text/plain": [
       "{4, 5, 6, 7}"
      ]
     },
     "execution_count": 143,
     "metadata": {},
     "output_type": "execute_result"
    }
   ],
   "source": [
    "unique_len"
   ]
  },
  {
   "cell_type": "code",
   "execution_count": 144,
   "id": "abd8316e",
   "metadata": {},
   "outputs": [
    {
     "data": {
      "text/plain": [
       "{4, 5, 6, 7}"
      ]
     },
     "execution_count": 144,
     "metadata": {},
     "output_type": "execute_result"
    }
   ],
   "source": [
    "### using map function\n",
    "set(map(len, names))"
   ]
  },
  {
   "cell_type": "code",
   "execution_count": 148,
   "id": "ee8a3064",
   "metadata": {},
   "outputs": [
    {
     "data": {
      "text/plain": [
       "{0: 'amar', 1: 'aneel', 2: 'Vivek', 3: 'rajesh', 4: 'santosh'}"
      ]
     },
     "execution_count": 148,
     "metadata": {},
     "output_type": "execute_result"
    }
   ],
   "source": [
    "names_mapping = {index : name for index, name in enumerate(names)}\n",
    "names_mapping"
   ]
  },
  {
   "cell_type": "markdown",
   "id": "6255d125",
   "metadata": {},
   "source": [
    "### Nested list comprehensions"
   ]
  },
  {
   "cell_type": "code",
   "execution_count": 154,
   "id": "175a0209",
   "metadata": {},
   "outputs": [],
   "source": [
    "# Suppose we have a list of lists containing some English and Spanish names:\n",
    "all_names = [['John', 'Emily', 'Michael', 'Mary', 'Steven'], ['Maria', 'Juan', 'Javier', 'Natalia', 'Pilar']]"
   ]
  },
  {
   "cell_type": "code",
   "execution_count": 156,
   "id": "04592336",
   "metadata": {},
   "outputs": [
    {
     "data": {
      "text/plain": [
       "['Steven']"
      ]
     },
     "execution_count": 156,
     "metadata": {},
     "output_type": "execute_result"
    }
   ],
   "source": [
    "# get a single list containing all names with two or more e’s in them. We could certainly do this with a simple for loop\n",
    "fav_names = []\n",
    "for names in all_names:\n",
    "    names_es = [name for name in names if name.count('e') >= 2]\n",
    "    fav_names.extend(names_es)\n",
    "fav_names\n",
    "    "
   ]
  },
  {
   "cell_type": "code",
   "execution_count": 157,
   "id": "8346fdf2",
   "metadata": {},
   "outputs": [
    {
     "data": {
      "text/plain": [
       "['Steven']"
      ]
     },
     "execution_count": 157,
     "metadata": {},
     "output_type": "execute_result"
    }
   ],
   "source": [
    "names = [name for names in all_names for name in names if name.count('e') >= 2]\n",
    "names"
   ]
  },
  {
   "cell_type": "code",
   "execution_count": 159,
   "id": "7f7561b1",
   "metadata": {},
   "outputs": [
    {
     "data": {
      "text/plain": [
       "[1, 2, 3, 4, 5, 6, 7, 8, 9]"
      ]
     },
     "execution_count": 159,
     "metadata": {},
     "output_type": "execute_result"
    }
   ],
   "source": [
    "# “flatten” a list of tuples of integers into a simple list of integers:\n",
    "tuples_list = [(1, 2, 3), (4, 5, 6), (7, 8, 9)]\n",
    "flat_tuples = [x for tup in tuples_list for x in tup]\n",
    "flat_tuples"
   ]
  },
  {
   "cell_type": "code",
   "execution_count": 160,
   "id": "ca52209f",
   "metadata": {},
   "outputs": [
    {
     "data": {
      "text/plain": [
       "[1, 2, 3, 4, 5, 6, 7, 8, 9]"
      ]
     },
     "execution_count": 160,
     "metadata": {},
     "output_type": "execute_result"
    }
   ],
   "source": [
    "flattened = []\n",
    "for tup in tuples_list:\n",
    "    for x in tup:\n",
    "        flattened.append(x)\n",
    "flattened"
   ]
  },
  {
   "cell_type": "code",
   "execution_count": 161,
   "id": "3af4f7e8",
   "metadata": {},
   "outputs": [
    {
     "data": {
      "text/plain": [
       "[[1, 2, 3], [4, 5, 6], [7, 8, 9]]"
      ]
     },
     "execution_count": 161,
     "metadata": {},
     "output_type": "execute_result"
    }
   ],
   "source": [
    "[[x for x in tup] for tup in tuples_list]"
   ]
  },
  {
   "cell_type": "markdown",
   "id": "8b4d7f11",
   "metadata": {},
   "source": [
    "### Functions"
   ]
  },
  {
   "cell_type": "code",
   "execution_count": 162,
   "id": "1d6511fc",
   "metadata": {},
   "outputs": [
    {
     "data": {
      "text/plain": [
       "1"
      ]
     },
     "execution_count": 162,
     "metadata": {},
     "output_type": "execute_result"
    }
   ],
   "source": [
    "# Functions are declared with the def keyword and returned from with the return keyword\n",
    "def calculator(x, y, operator):\n",
    "    if operator == '+':\n",
    "        return x + y\n",
    "    elif operator == '-':\n",
    "        return x - y\n",
    "    elif operator == '/':\n",
    "        return x / y\n",
    "    elif operator == '*':\n",
    "        return x * y\n",
    "    else:\n",
    "        return 'wrong operator'\n",
    "calculator(3,2, '-')"
   ]
  },
  {
   "cell_type": "code",
   "execution_count": 163,
   "id": "5a9848fe",
   "metadata": {},
   "outputs": [
    {
     "data": {
      "text/plain": [
       "1.5"
      ]
     },
     "execution_count": 163,
     "metadata": {},
     "output_type": "execute_result"
    }
   ],
   "source": [
    "calculator(3,2, '/')"
   ]
  },
  {
   "cell_type": "code",
   "execution_count": 164,
   "id": "6b558900",
   "metadata": {},
   "outputs": [
    {
     "data": {
      "text/plain": [
       "5"
      ]
     },
     "execution_count": 164,
     "metadata": {},
     "output_type": "execute_result"
    }
   ],
   "source": [
    "calculator(3,2, '+')"
   ]
  },
  {
   "cell_type": "code",
   "execution_count": 165,
   "id": "cd263a7d",
   "metadata": {},
   "outputs": [
    {
     "data": {
      "text/plain": [
       "6"
      ]
     },
     "execution_count": 165,
     "metadata": {},
     "output_type": "execute_result"
    }
   ],
   "source": [
    "calculator(3,2, '*')"
   ]
  },
  {
   "cell_type": "code",
   "execution_count": 166,
   "id": "552d79f2",
   "metadata": {},
   "outputs": [
    {
     "data": {
      "text/plain": [
       "'wrong operator'"
      ]
     },
     "execution_count": 166,
     "metadata": {},
     "output_type": "execute_result"
    }
   ],
   "source": [
    "calculator(3,2, '=')"
   ]
  },
  {
   "cell_type": "markdown",
   "id": "ae51ed30",
   "metadata": {},
   "source": [
    "### Namespaces, Scope, and Local Functions"
   ]
  },
  {
   "cell_type": "code",
   "execution_count": 1,
   "id": "542595f1",
   "metadata": {},
   "outputs": [
    {
     "ename": "NameError",
     "evalue": "name 'a' is not defined",
     "output_type": "error",
     "traceback": [
      "\u001b[1;31m---------------------------------------------------------------------------\u001b[0m",
      "\u001b[1;31mNameError\u001b[0m                                 Traceback (most recent call last)",
      "Input \u001b[1;32mIn [1]\u001b[0m, in \u001b[0;36m<cell line: 6>\u001b[1;34m()\u001b[0m\n\u001b[0;32m      4\u001b[0m         a\u001b[38;5;241m.\u001b[39mappend(i)\n\u001b[0;32m      5\u001b[0m fun()\n\u001b[1;32m----> 6\u001b[0m \u001b[38;5;28mprint\u001b[39m(\u001b[43ma\u001b[49m)\n",
      "\u001b[1;31mNameError\u001b[0m: name 'a' is not defined"
     ]
    }
   ],
   "source": [
    "def fun():\n",
    "    a = []\n",
    "    for i in range(5):\n",
    "        a.append(i)\n",
    "fun()\n",
    "print(a)"
   ]
  },
  {
   "cell_type": "code",
   "execution_count": 2,
   "id": "be36cde2",
   "metadata": {},
   "outputs": [
    {
     "name": "stdout",
     "output_type": "stream",
     "text": [
      "[0, 1, 2, 3, 4]\n"
     ]
    }
   ],
   "source": [
    "# Assigning variables outside of the function’s scope is possible, but those variables must be declared as global via the global keyword:\n",
    "a = None\n",
    "\n",
    "def fun():\n",
    "    global a\n",
    "    a = []\n",
    "    for i in range(5):\n",
    "        a.append(i)\n",
    "fun()\n",
    "print(a)"
   ]
  },
  {
   "cell_type": "markdown",
   "id": "b48fbd6c",
   "metadata": {},
   "source": [
    "### Returning Multiple Values"
   ]
  },
  {
   "cell_type": "code",
   "execution_count": 5,
   "id": "cc81b045",
   "metadata": {},
   "outputs": [],
   "source": [
    "def values():\n",
    "    a = 1\n",
    "    b = 2\n",
    "    c = 3\n",
    "    return a, b, c\n",
    "a, b, c = values()"
   ]
  },
  {
   "cell_type": "code",
   "execution_count": 6,
   "id": "192f697a",
   "metadata": {},
   "outputs": [
    {
     "name": "stdout",
     "output_type": "stream",
     "text": [
      "1 2 3\n"
     ]
    }
   ],
   "source": [
    "print(a, b, c)"
   ]
  },
  {
   "cell_type": "markdown",
   "id": "9801eb6e",
   "metadata": {},
   "source": [
    "### Functions Are Objects"
   ]
  },
  {
   "cell_type": "code",
   "execution_count": 10,
   "id": "e2199a34",
   "metadata": {},
   "outputs": [
    {
     "data": {
      "text/plain": [
       "['Alabama',\n",
       " 'Georgia',\n",
       " 'Georgia',\n",
       " 'Georgia',\n",
       " 'Florida',\n",
       " 'South Carolina',\n",
       " 'West Virginia']"
      ]
     },
     "execution_count": 10,
     "metadata": {},
     "output_type": "execute_result"
    }
   ],
   "source": [
    "# use built-in string methods along with the re standard library module for regular expressions\n",
    "states_names = [' Alabama ', 'Georgia!', 'Georgia', 'georgia', 'FlOrIda', 'south carolina##', 'West virginia?']\n",
    "\n",
    "import re\n",
    "\n",
    "def clean_list_values(values):\n",
    "    values_list = []\n",
    "    for val in values:\n",
    "        value = val.strip()\n",
    "        value = re.sub('[!#?]','', value)\n",
    "        value = value.title()\n",
    "        values_list.append(value)\n",
    "    return values_list\n",
    "clean_list_values(states_names)"
   ]
  },
  {
   "cell_type": "code",
   "execution_count": 16,
   "id": "c840a1ee",
   "metadata": {},
   "outputs": [
    {
     "data": {
      "text/plain": [
       "['Alabama',\n",
       " 'Georgia',\n",
       " 'Georgia',\n",
       " 'Georgia',\n",
       " 'Florida',\n",
       " 'South Carolina',\n",
       " 'West Virginia']"
      ]
     },
     "execution_count": 16,
     "metadata": {},
     "output_type": "execute_result"
    }
   ],
   "source": [
    "# An alternative approach that may find useful is to make a list of the operations want to apply to a particular set of strings\n",
    "\n",
    "def remove_punctuation(val):\n",
    "    return re.sub('[!#?]','', val)\n",
    "clean_ops = [str.strip, remove_punctuation, str.title]\n",
    "\n",
    "def clean_values(valu, ops):\n",
    "    values = []\n",
    "    for value in valu:\n",
    "        for function in ops:\n",
    "            value = function(value)\n",
    "        values.append(value)\n",
    "    return values\n",
    "clean_values(states_names, clean_ops)"
   ]
  },
  {
   "cell_type": "code",
   "execution_count": 17,
   "id": "fefdfa3b",
   "metadata": {},
   "outputs": [
    {
     "name": "stdout",
     "output_type": "stream",
     "text": [
      " Alabama \n",
      "Georgia\n",
      "Georgia\n",
      "georgia\n",
      "FlOrIda\n",
      "south carolina\n",
      "West virginia\n"
     ]
    }
   ],
   "source": [
    "# built-in map function, which applies a function to a sequence of some kind\n",
    "for x in map(remove_punctuation, states_names):\n",
    "    print(x)"
   ]
  },
  {
   "cell_type": "markdown",
   "id": "4c5a18fd",
   "metadata": {},
   "source": [
    "### Anonymous (Lambda) Functions"
   ]
  },
  {
   "cell_type": "code",
   "execution_count": 18,
   "id": "2d7fc0e5",
   "metadata": {},
   "outputs": [
    {
     "data": {
      "text/plain": [
       "4"
      ]
     },
     "execution_count": 18,
     "metadata": {},
     "output_type": "execute_result"
    }
   ],
   "source": [
    "def double_value(x):\n",
    "    return x * 2\n",
    "x = 2\n",
    "double_value(x)"
   ]
  },
  {
   "cell_type": "code",
   "execution_count": 23,
   "id": "c540cecf",
   "metadata": {},
   "outputs": [
    {
     "data": {
      "text/plain": [
       "[8, 0, 2, 10, 12]"
      ]
     },
     "execution_count": 23,
     "metadata": {},
     "output_type": "execute_result"
    }
   ],
   "source": [
    "def apply_to_list(some_list, f):\n",
    "    return [f(x) for x in some_list]\n",
    "ints = [4, 0, 1, 5, 6]\n",
    "apply_to_list(ints, lambda x: x * 2)"
   ]
  },
  {
   "cell_type": "code",
   "execution_count": 25,
   "id": "984c046e",
   "metadata": {},
   "outputs": [
    {
     "data": {
      "text/plain": [
       "['aaaa', 'foo', 'abab', 'bar', 'card']"
      ]
     },
     "execution_count": 25,
     "metadata": {},
     "output_type": "execute_result"
    }
   ],
   "source": [
    "# sort a collection of strings by the number of distinct letters in each string\n",
    "strings_values = ['foo', 'card', 'bar', 'aaaa', 'abab']\n",
    "# Here we could pass a lambda function to the list’s sort method:\n",
    "strings_values.sort(key=lambda x: len(set(list(x))))\n",
    "strings_values\n"
   ]
  },
  {
   "cell_type": "markdown",
   "id": "ba36b75a",
   "metadata": {},
   "source": [
    "### Currying: Partial Argument Application"
   ]
  },
  {
   "cell_type": "code",
   "execution_count": 26,
   "id": "9324c69f",
   "metadata": {},
   "outputs": [
    {
     "data": {
      "text/plain": [
       "6"
      ]
     },
     "execution_count": 26,
     "metadata": {},
     "output_type": "execute_result"
    }
   ],
   "source": [
    "def add_numbers(x,y):\n",
    "    return x + y\n",
    "add_numbers(2,4)"
   ]
  },
  {
   "cell_type": "code",
   "execution_count": 27,
   "id": "c1842dc4",
   "metadata": {},
   "outputs": [],
   "source": [
    "add_five = lambda y: add_numbers(5, y)"
   ]
  },
  {
   "cell_type": "code",
   "execution_count": 47,
   "id": "eea0dc82",
   "metadata": {},
   "outputs": [
    {
     "data": {
      "text/plain": [
       "functools.partial(<function add_numbers at 0x00000197E8D8B8B0>, 5)"
      ]
     },
     "execution_count": 47,
     "metadata": {},
     "output_type": "execute_result"
    }
   ],
   "source": [
    "add_five"
   ]
  },
  {
   "cell_type": "code",
   "execution_count": 29,
   "id": "07dae207",
   "metadata": {},
   "outputs": [],
   "source": [
    "from functools import partial\n",
    "add_five = partial(add_numbers, 5)\n"
   ]
  },
  {
   "cell_type": "code",
   "execution_count": 30,
   "id": "95b2f227",
   "metadata": {},
   "outputs": [
    {
     "data": {
      "text/plain": [
       "functools.partial(<function add_numbers at 0x00000197E8D8B8B0>, 5)"
      ]
     },
     "execution_count": 30,
     "metadata": {},
     "output_type": "execute_result"
    }
   ],
   "source": [
    "add_five"
   ]
  },
  {
   "cell_type": "markdown",
   "id": "2245ee69",
   "metadata": {},
   "source": [
    "### Generators"
   ]
  },
  {
   "cell_type": "code",
   "execution_count": 32,
   "id": "c5e4119b",
   "metadata": {},
   "outputs": [
    {
     "name": "stdout",
     "output_type": "stream",
     "text": [
      "a\n",
      "b\n",
      "c\n"
     ]
    }
   ],
   "source": [
    "# iterating over a dict yields the dict keys:\n",
    "some_dict = {'a': 1, 'b': 2, 'c': 3}\n",
    "for key in some_dict:\n",
    "    print(key)"
   ]
  },
  {
   "cell_type": "code",
   "execution_count": 33,
   "id": "c72bf656",
   "metadata": {},
   "outputs": [],
   "source": [
    "dict_iterator = iter(some_dict)"
   ]
  },
  {
   "cell_type": "code",
   "execution_count": 37,
   "id": "68ede25a",
   "metadata": {},
   "outputs": [
    {
     "data": {
      "text/plain": [
       "['a', 'b', 'c']"
      ]
     },
     "execution_count": 37,
     "metadata": {},
     "output_type": "execute_result"
    }
   ],
   "source": [
    "list(dict_iterator)"
   ]
  },
  {
   "cell_type": "code",
   "execution_count": 38,
   "id": "bfe22896",
   "metadata": {},
   "outputs": [],
   "source": [
    "# To create a generator, use the yield keyword instead of return in a function:\n",
    "def squares(n=10):\n",
    "    print('Generating squares from 1 to {0}'.format(n ** 2))\n",
    "    for i in range(1, n + 1):\n",
    "        yield i ** 2"
   ]
  },
  {
   "cell_type": "code",
   "execution_count": 40,
   "id": "987b1638",
   "metadata": {},
   "outputs": [],
   "source": [
    "gen = squares(10)"
   ]
  },
  {
   "cell_type": "code",
   "execution_count": 41,
   "id": "447879ee",
   "metadata": {},
   "outputs": [
    {
     "data": {
      "text/plain": [
       "<generator object squares at 0x00000197E9386D60>"
      ]
     },
     "execution_count": 41,
     "metadata": {},
     "output_type": "execute_result"
    }
   ],
   "source": [
    "gen"
   ]
  },
  {
   "cell_type": "code",
   "execution_count": 42,
   "id": "6a79f7ad",
   "metadata": {},
   "outputs": [
    {
     "name": "stdout",
     "output_type": "stream",
     "text": [
      "Generating squares from 1 to 100\n"
     ]
    },
    {
     "data": {
      "text/plain": [
       "[1, 4, 9, 16, 25, 36, 49, 64, 81, 100]"
      ]
     },
     "execution_count": 42,
     "metadata": {},
     "output_type": "execute_result"
    }
   ],
   "source": [
    "list(gen)"
   ]
  },
  {
   "cell_type": "code",
   "execution_count": 45,
   "id": "31631ed1",
   "metadata": {},
   "outputs": [
    {
     "name": "stdout",
     "output_type": "stream",
     "text": [
      "Generating squares from 1 to 100\n",
      "1 4 9 16 25 36 49 64 81 100 "
     ]
    }
   ],
   "source": [
    "gen = squares(10)\n",
    "for x in gen:\n",
    "    print(x, end =' ')"
   ]
  },
  {
   "cell_type": "markdown",
   "id": "457f22c7",
   "metadata": {},
   "source": [
    "### Generator expresssions"
   ]
  },
  {
   "cell_type": "code",
   "execution_count": 48,
   "id": "4b9f2082",
   "metadata": {},
   "outputs": [
    {
     "data": {
      "text/plain": [
       "<generator object <genexpr> at 0x00000197E96B06D0>"
      ]
     },
     "execution_count": 48,
     "metadata": {},
     "output_type": "execute_result"
    }
   ],
   "source": [
    "#This is a generator analogue to list, dict, and set comprehensions; to create one, enclose what would otherwise be a list comprehension within parentheses instead of brackets:\n",
    "gen = (x ** 2 for x in range(100))\n",
    "gen"
   ]
  },
  {
   "cell_type": "code",
   "execution_count": 49,
   "id": "d84a42d8",
   "metadata": {},
   "outputs": [],
   "source": [
    "# This is completely equivalent to the following more verbose generator:\n",
    "def _make_gen():\n",
    "    for x in range(100):\n",
    "        yield x ** 2\n",
    "gen = _make_gen()"
   ]
  },
  {
   "cell_type": "code",
   "execution_count": 50,
   "id": "b8f1d96f",
   "metadata": {},
   "outputs": [
    {
     "data": {
      "text/plain": [
       "<generator object _make_gen at 0x00000197E96B0900>"
      ]
     },
     "execution_count": 50,
     "metadata": {},
     "output_type": "execute_result"
    }
   ],
   "source": [
    "gen"
   ]
  },
  {
   "cell_type": "code",
   "execution_count": 51,
   "id": "65f7c19b",
   "metadata": {},
   "outputs": [
    {
     "data": {
      "text/plain": [
       "328350"
      ]
     },
     "execution_count": 51,
     "metadata": {},
     "output_type": "execute_result"
    }
   ],
   "source": [
    "# Generator expressions can be used instead of list comprehensions as function argu‐ ments in many cases:\n",
    "sum(x ** 2 for x in range(100))"
   ]
  },
  {
   "cell_type": "code",
   "execution_count": 52,
   "id": "690c7838",
   "metadata": {},
   "outputs": [
    {
     "data": {
      "text/plain": [
       "{0: 0, 1: 1, 2: 4, 3: 9, 4: 16}"
      ]
     },
     "execution_count": 52,
     "metadata": {},
     "output_type": "execute_result"
    }
   ],
   "source": [
    "dict((i, i **2) for i in range(5))"
   ]
  },
  {
   "cell_type": "markdown",
   "id": "18c8bac0",
   "metadata": {},
   "source": [
    "### itertools module"
   ]
  },
  {
   "cell_type": "code",
   "execution_count": 53,
   "id": "399a8fc0",
   "metadata": {},
   "outputs": [
    {
     "name": "stdout",
     "output_type": "stream",
     "text": [
      "A ['Alan', 'Adam']\n",
      "W ['Wes', 'Will']\n",
      "A ['Albert']\n",
      "S ['Steven']\n"
     ]
    }
   ],
   "source": [
    "import itertools\n",
    "first_letter = lambda x: x[0]\n",
    "names = ['Alan', 'Adam', 'Wes', 'Will', 'Albert', 'Steven']\n",
    "for letter, names in itertools.groupby(names, first_letter):\n",
    "    print(letter, list(names)) # names is a generator"
   ]
  },
  {
   "cell_type": "code",
   "execution_count": 54,
   "id": "7ca15c70",
   "metadata": {},
   "outputs": [],
   "source": [
    "# Function                        Description\n",
    "# combinations(iterable, k)       Generates a sequence of all possible k-tuples of elements in the iterable, ignoring order and without replacement (see also the companion function combinations_with_replacement)\n",
    "# permutations(iterable, k)       Generates a sequence of all possible k-tuples of elements in the iterable, respecting order\n",
    "# groupby(iterable[, keyfunc])    Generates (key, sub-iterator) for each unique key\n",
    "# product(*iterables, repeat=1)   Generates the Cartesian product of the input iterables as tuples, similar to a nested for loop\n"
   ]
  },
  {
   "cell_type": "markdown",
   "id": "994361dd",
   "metadata": {},
   "source": [
    "### Errors and Exception Handling"
   ]
  },
  {
   "cell_type": "code",
   "execution_count": 55,
   "id": "a04f4c67",
   "metadata": {},
   "outputs": [
    {
     "data": {
      "text/plain": [
       "1.2345"
      ]
     },
     "execution_count": 55,
     "metadata": {},
     "output_type": "execute_result"
    }
   ],
   "source": [
    "float('1.2345')"
   ]
  },
  {
   "cell_type": "code",
   "execution_count": 56,
   "id": "6459a572",
   "metadata": {},
   "outputs": [
    {
     "ename": "ValueError",
     "evalue": "could not convert string to float: 'something'",
     "output_type": "error",
     "traceback": [
      "\u001b[1;31m---------------------------------------------------------------------------\u001b[0m",
      "\u001b[1;31mValueError\u001b[0m                                Traceback (most recent call last)",
      "Input \u001b[1;32mIn [56]\u001b[0m, in \u001b[0;36m<cell line: 1>\u001b[1;34m()\u001b[0m\n\u001b[1;32m----> 1\u001b[0m \u001b[38;5;28;43mfloat\u001b[39;49m\u001b[43m(\u001b[49m\u001b[38;5;124;43m'\u001b[39;49m\u001b[38;5;124;43msomething\u001b[39;49m\u001b[38;5;124;43m'\u001b[39;49m\u001b[43m)\u001b[49m\n",
      "\u001b[1;31mValueError\u001b[0m: could not convert string to float: 'something'"
     ]
    }
   ],
   "source": [
    "float('something')"
   ]
  },
  {
   "cell_type": "code",
   "execution_count": 58,
   "id": "7182b7b7",
   "metadata": {},
   "outputs": [
    {
     "data": {
      "text/plain": [
       "'something'"
      ]
     },
     "execution_count": 58,
     "metadata": {},
     "output_type": "execute_result"
    }
   ],
   "source": [
    "# We can do this by writing a function that encloses the call to float in a try/except block:\n",
    "def attempt_float(string):\n",
    "    try:\n",
    "        return float(string)\n",
    "    except:\n",
    "        return string\n",
    "attempt_float('something')"
   ]
  },
  {
   "cell_type": "code",
   "execution_count": 59,
   "id": "cae73459",
   "metadata": {},
   "outputs": [
    {
     "data": {
      "text/plain": [
       "1.2345"
      ]
     },
     "execution_count": 59,
     "metadata": {},
     "output_type": "execute_result"
    }
   ],
   "source": [
    "attempt_float('1.2345')\n"
   ]
  },
  {
   "cell_type": "code",
   "execution_count": 60,
   "id": "ec5793ee",
   "metadata": {},
   "outputs": [
    {
     "data": {
      "text/plain": [
       "'something'"
      ]
     },
     "execution_count": 60,
     "metadata": {},
     "output_type": "execute_result"
    }
   ],
   "source": [
    "attempt_float('something')"
   ]
  },
  {
   "cell_type": "code",
   "execution_count": 61,
   "id": "f57e3e65",
   "metadata": {},
   "outputs": [
    {
     "ename": "TypeError",
     "evalue": "float() argument must be a string or a number, not 'tuple'",
     "output_type": "error",
     "traceback": [
      "\u001b[1;31m---------------------------------------------------------------------------\u001b[0m",
      "\u001b[1;31mTypeError\u001b[0m                                 Traceback (most recent call last)",
      "Input \u001b[1;32mIn [61]\u001b[0m, in \u001b[0;36m<cell line: 2>\u001b[1;34m()\u001b[0m\n\u001b[0;32m      1\u001b[0m \u001b[38;5;66;03m# float can raise exceptions other than ValueError:\u001b[39;00m\n\u001b[1;32m----> 2\u001b[0m \u001b[38;5;28;43mfloat\u001b[39;49m\u001b[43m(\u001b[49m\u001b[43m(\u001b[49m\u001b[38;5;241;43m1\u001b[39;49m\u001b[43m,\u001b[49m\u001b[43m \u001b[49m\u001b[38;5;241;43m2\u001b[39;49m\u001b[43m)\u001b[49m\u001b[43m)\u001b[49m\n",
      "\u001b[1;31mTypeError\u001b[0m: float() argument must be a string or a number, not 'tuple'"
     ]
    }
   ],
   "source": [
    "# float can raise exceptions other than ValueError:\n",
    "float((1, 2))"
   ]
  },
  {
   "cell_type": "code",
   "execution_count": 62,
   "id": "44957ceb",
   "metadata": {},
   "outputs": [],
   "source": [
    "def attempt_float(x):\n",
    "    try:\n",
    "        return float(x)\n",
    "    except ValueError:\n",
    "        return x"
   ]
  },
  {
   "cell_type": "code",
   "execution_count": 63,
   "id": "db635afe",
   "metadata": {},
   "outputs": [
    {
     "ename": "TypeError",
     "evalue": "float() argument must be a string or a number, not 'tuple'",
     "output_type": "error",
     "traceback": [
      "\u001b[1;31m---------------------------------------------------------------------------\u001b[0m",
      "\u001b[1;31mTypeError\u001b[0m                                 Traceback (most recent call last)",
      "Input \u001b[1;32mIn [63]\u001b[0m, in \u001b[0;36m<cell line: 1>\u001b[1;34m()\u001b[0m\n\u001b[1;32m----> 1\u001b[0m \u001b[43mattempt_float\u001b[49m\u001b[43m(\u001b[49m\u001b[43m(\u001b[49m\u001b[38;5;241;43m1\u001b[39;49m\u001b[43m,\u001b[49m\u001b[43m \u001b[49m\u001b[38;5;241;43m2\u001b[39;49m\u001b[43m)\u001b[49m\u001b[43m)\u001b[49m\n",
      "Input \u001b[1;32mIn [62]\u001b[0m, in \u001b[0;36mattempt_float\u001b[1;34m(x)\u001b[0m\n\u001b[0;32m      1\u001b[0m \u001b[38;5;28;01mdef\u001b[39;00m \u001b[38;5;21mattempt_float\u001b[39m(x):\n\u001b[0;32m      2\u001b[0m     \u001b[38;5;28;01mtry\u001b[39;00m:\n\u001b[1;32m----> 3\u001b[0m         \u001b[38;5;28;01mreturn\u001b[39;00m \u001b[38;5;28;43mfloat\u001b[39;49m\u001b[43m(\u001b[49m\u001b[43mx\u001b[49m\u001b[43m)\u001b[49m\n\u001b[0;32m      4\u001b[0m     \u001b[38;5;28;01mexcept\u001b[39;00m \u001b[38;5;167;01mValueError\u001b[39;00m:\n\u001b[0;32m      5\u001b[0m         \u001b[38;5;28;01mreturn\u001b[39;00m x\n",
      "\u001b[1;31mTypeError\u001b[0m: float() argument must be a string or a number, not 'tuple'"
     ]
    }
   ],
   "source": [
    "attempt_float((1, 2))"
   ]
  },
  {
   "cell_type": "code",
   "execution_count": 64,
   "id": "4043e589",
   "metadata": {},
   "outputs": [
    {
     "data": {
      "text/plain": [
       "(1, 2)"
      ]
     },
     "execution_count": 64,
     "metadata": {},
     "output_type": "execute_result"
    }
   ],
   "source": [
    "def attempt_float(x):\n",
    "    try:\n",
    "        return float(x)\n",
    "    except (TypeError, ValueError):\n",
    "        return x\n",
    "attempt_float((1, 2))"
   ]
  },
  {
   "cell_type": "code",
   "execution_count": 65,
   "id": "a9726d9e",
   "metadata": {},
   "outputs": [
    {
     "data": {
      "text/plain": [
       "\"f = open(path, 'w')\\ntry:\\n    write_to_file(f)\\nfinally:\\n    f.close()\""
      ]
     },
     "execution_count": 65,
     "metadata": {},
     "output_type": "execute_result"
    }
   ],
   "source": [
    "\"\"\"f = open(path, 'w')\n",
    "try:\n",
    "    write_to_file(f)\n",
    "finally:\n",
    "    f.close()\"\"\""
   ]
  },
  {
   "cell_type": "code",
   "execution_count": 66,
   "id": "895b8fd4",
   "metadata": {},
   "outputs": [
    {
     "data": {
      "text/plain": [
       "\"\\nf = open(path, 'w')\\ntry:\\n    write_to_file(f)\\nexcept:\\n    print('Failed')\\nelse:\\n    print('Succeeded')\\nfinally:\\n    f.close()\\n\""
      ]
     },
     "execution_count": 66,
     "metadata": {},
     "output_type": "execute_result"
    }
   ],
   "source": [
    "# file handle f will always get closed. Similarly, you can have code that executes only if the try: block succeeds using else:\n",
    "\"\"\"\n",
    "f = open(path, 'w')\n",
    "try:\n",
    "    write_to_file(f)\n",
    "except:\n",
    "    print('Failed')\n",
    "else:\n",
    "    print('Succeeded')\n",
    "finally:\n",
    "    f.close()\n",
    "\"\"\""
   ]
  },
  {
   "cell_type": "markdown",
   "id": "9ea7a4f7",
   "metadata": {},
   "source": [
    "### Exceptions in IPython"
   ]
  },
  {
   "cell_type": "code",
   "execution_count": null,
   "id": "07040ee6",
   "metadata": {},
   "outputs": [],
   "source": [
    "#%run examples/ipython_bug.py"
   ]
  },
  {
   "cell_type": "code",
   "execution_count": null,
   "id": "0f36fefa",
   "metadata": {},
   "outputs": [],
   "source": []
  },
  {
   "cell_type": "markdown",
   "id": "c4bcbb04",
   "metadata": {},
   "source": [
    "### Files and the Operating System"
   ]
  },
  {
   "cell_type": "code",
   "execution_count": null,
   "id": "3f337bf7",
   "metadata": {},
   "outputs": [],
   "source": [
    "# To open a file for reading or writing, use the built-in open function with either a relative or absolute file path:\n",
    "# path = 'examples/segismundo.txt'\n",
    "# f = open(path)\n"
   ]
  },
  {
   "cell_type": "code",
   "execution_count": 67,
   "id": "e813d704",
   "metadata": {},
   "outputs": [],
   "source": [
    "# The lines come out of the file with the end-of-line (EOL) markers intact, so you’ll often see code to get an EOL-free list of lines in a file like:\n",
    "# lines = [x.rstrip() for x in open(path)]\n",
    "# lines\n",
    "\n",
    "# Closing the file releases its resources back to the operating system:\n",
    "# f.close()"
   ]
  },
  {
   "cell_type": "code",
   "execution_count": null,
   "id": "731b0d1c",
   "metadata": {},
   "outputs": [],
   "source": [
    "# One of the ways to make it easier to clean up open files is to use the with statement:\n",
    "#with open(path) as f:\n",
    "#    lines = [x.rstrip() for x in f]\n"
   ]
  },
  {
   "cell_type": "code",
   "execution_count": null,
   "id": "b17f885e",
   "metadata": {},
   "outputs": [],
   "source": [
    "# a “character” is determined by the file’s encoding (e.g., UTF-8) or simply raw bytes if the file is opened in binary mode:\n",
    "#f = open(path)\n",
    "#f.read(10)\n",
    "\n",
    "#f2 = open(path, 'rb') # Binary mode\n",
    "#f2.read(10)\n",
    "\n",
    "# The read method advances the file handle’s position by the number of bytes read. tell gives you the current position:\n",
    "#f.tell()\n",
    "\n",
    "#f2.tell()"
   ]
  },
  {
   "cell_type": "code",
   "execution_count": null,
   "id": "1e64f7d8",
   "metadata": {},
   "outputs": [],
   "source": [
    "# You can check the default encoding in the sys module:\n",
    "# import sys\n",
    "# sys.getdefaultencoding()\n",
    "\n",
    "# seek changes the file position to the indicated byte in the file:\n",
    "# f.seek(3)\n",
    "\n",
    "# f.read(1)\n",
    "\n",
    "# close the files:\n",
    "# f.close()\n",
    "# f2.close()\n"
   ]
  },
  {
   "cell_type": "code",
   "execution_count": null,
   "id": "0f88a4d9",
   "metadata": {},
   "outputs": [],
   "source": [
    "# Mode Description\n",
    "# r Read-only mode\n",
    "# w Write-only mode; creates a new file (erasing the data for any file with the same name)\n",
    "# x Write-only mode; creates a new file, but fails if the file path already exists\n",
    "# a Append to existing file (create the file if it does not already exist)\n",
    "# r+ Read and write\n",
    "# b Add to mode for binary files (i.e., 'rb' or 'wb')\n",
    "# t Text mode for files (automatically decoding bytes to Unicode). This is the default if not specified. Add t to other modes to use this (i.e., 'rt' or 'xt')\n",
    "# To write text to a file, you can use the file’s write or writelines methods. For example, we could create a version of prof_mod.py with no blank lines like so:\n",
    "\n",
    "#with open('tmp.txt', 'w') as handle:\n",
    "#    handle.writelines(x for x in open(path) if len(x) > 1)\n",
    "#    with open('tmp.txt') as f:\n",
    "#        lines = f.readlines()\n",
    "#lines\n"
   ]
  },
  {
   "cell_type": "markdown",
   "id": "5430df00",
   "metadata": {},
   "source": [
    "### Bytes and Unicode with Files"
   ]
  },
  {
   "cell_type": "code",
   "execution_count": null,
   "id": "d41d54b0",
   "metadata": {},
   "outputs": [],
   "source": [
    "# Let’s look at the file (which contains non-ASCII characters with UTF-8 encoding) from the previous section:\n",
    "#with open(path) as f:\n",
    "#    chars = f.read(10)\n",
    "#chars\n",
    "\n",
    "# If I open the file in 'rb' mode instead, read requests exact numbers of bytes:\n",
    "# with open(path, 'rb') as f:\n",
    "#        data = f.read(10)\n",
    "# data\n",
    "\n",
    "# Depending on the text encoding, you may be able to decode the bytes to a str object yourself, but only if each of the encoded Unicode characters is fully formed:\n",
    "# data.decode('utf8')\n",
    "# data[:4].decode('utf8')"
   ]
  },
  {
   "cell_type": "code",
   "execution_count": null,
   "id": "d45e04af",
   "metadata": {},
   "outputs": [],
   "source": [
    "# Text mode, combined with the encoding option of open, provides a convenient way to convert from one Unicode encoding to another:\n",
    "\n",
    "# sink_path = 'sink.txt'\n",
    "# with open(path) as source:\n",
    "#      with open(sink_path, 'xt', encoding='iso-8859-1') as sink:\n",
    "#      sink.write(source.read())\n",
    "# with open(sink_path, encoding='iso-8859-1') as f:\n",
    "#       print(f.read(10))\n"
   ]
  },
  {
   "cell_type": "code",
   "execution_count": null,
   "id": "ebc5c017",
   "metadata": {},
   "outputs": [],
   "source": [
    "# bytes defining a Unicode character, then subsequent reads will result in an error:\n",
    "#f = open(path)\n",
    "#f.read(5)\n",
    "\n",
    "#f.seek(4)\n",
    "\n",
    "#f.read(1)"
   ]
  }
 ],
 "metadata": {
  "kernelspec": {
   "display_name": "Python 3 (ipykernel)",
   "language": "python",
   "name": "python3"
  },
  "language_info": {
   "codemirror_mode": {
    "name": "ipython",
    "version": 3
   },
   "file_extension": ".py",
   "mimetype": "text/x-python",
   "name": "python",
   "nbconvert_exporter": "python",
   "pygments_lexer": "ipython3",
   "version": "3.9.12"
  }
 },
 "nbformat": 4,
 "nbformat_minor": 5
}
