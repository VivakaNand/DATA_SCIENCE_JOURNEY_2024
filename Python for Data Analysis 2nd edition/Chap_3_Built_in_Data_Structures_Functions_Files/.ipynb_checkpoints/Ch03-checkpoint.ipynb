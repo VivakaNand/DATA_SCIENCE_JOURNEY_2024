{
 "cells": [
  {
   "cell_type": "markdown",
   "id": "573c05e8",
   "metadata": {},
   "source": [
    "# CHAPTER-03\n",
    "## Built-in Data Structures, Functions, and Files"
   ]
  },
  {
   "cell_type": "markdown",
   "id": "42d8f3d7",
   "metadata": {},
   "source": [
    "### Data Structures and Sequences"
   ]
  },
  {
   "cell_type": "markdown",
   "id": "1c9b86d4",
   "metadata": {},
   "source": [
    "### Tuple"
   ]
  },
  {
   "cell_type": "code",
   "execution_count": 1,
   "id": "cd445a72",
   "metadata": {},
   "outputs": [],
   "source": [
    "# A tuple is a fixed-length, immutable sequence of Python objects"
   ]
  },
  {
   "cell_type": "code",
   "execution_count": 2,
   "id": "7517db30",
   "metadata": {},
   "outputs": [],
   "source": [
    "tup = 2, 4, 6, 7"
   ]
  },
  {
   "cell_type": "code",
   "execution_count": 3,
   "id": "c3a5ef61",
   "metadata": {},
   "outputs": [
    {
     "data": {
      "text/plain": [
       "(2, 4, 6, 7)"
      ]
     },
     "execution_count": 3,
     "metadata": {},
     "output_type": "execute_result"
    }
   ],
   "source": [
    "tup"
   ]
  },
  {
   "cell_type": "markdown",
   "id": "73c55cd2",
   "metadata": {},
   "source": [
    "### Nested Tuple"
   ]
  },
  {
   "cell_type": "code",
   "execution_count": 4,
   "id": "5189dc19",
   "metadata": {},
   "outputs": [],
   "source": [
    "nested_tup = (1, 4, 5), (2, 3, 5, 6)"
   ]
  },
  {
   "cell_type": "code",
   "execution_count": 5,
   "id": "51b328a7",
   "metadata": {},
   "outputs": [
    {
     "data": {
      "text/plain": [
       "((1, 4, 5), (2, 3, 5, 6))"
      ]
     },
     "execution_count": 5,
     "metadata": {},
     "output_type": "execute_result"
    }
   ],
   "source": [
    "nested_tup"
   ]
  },
  {
   "cell_type": "code",
   "execution_count": 6,
   "id": "af2d2e6b",
   "metadata": {},
   "outputs": [
    {
     "data": {
      "text/plain": [
       "(3, 4, 5, 6)"
      ]
     },
     "execution_count": 6,
     "metadata": {},
     "output_type": "execute_result"
    }
   ],
   "source": [
    "tuple([3,4,5,6])"
   ]
  },
  {
   "cell_type": "code",
   "execution_count": 7,
   "id": "ad2967aa",
   "metadata": {},
   "outputs": [
    {
     "data": {
      "text/plain": [
       "('H', 'e', 'l', 'l', 'o', ' ', 'W', 'o', 'r', 'l', 'd')"
      ]
     },
     "execution_count": 7,
     "metadata": {},
     "output_type": "execute_result"
    }
   ],
   "source": [
    "tuple('Hello World')"
   ]
  },
  {
   "cell_type": "code",
   "execution_count": 8,
   "id": "14c72569",
   "metadata": {},
   "outputs": [],
   "source": [
    "# Elements of tuple can be accessed by square brackets \"[]\""
   ]
  },
  {
   "cell_type": "code",
   "execution_count": 11,
   "id": "c170d81c",
   "metadata": {},
   "outputs": [
    {
     "data": {
      "text/plain": [
       "'P'"
      ]
     },
     "execution_count": 11,
     "metadata": {},
     "output_type": "execute_result"
    }
   ],
   "source": [
    "tup_1 = tuple('Python')\n",
    "tup_1[0]"
   ]
  },
  {
   "cell_type": "code",
   "execution_count": 12,
   "id": "2c3c7613",
   "metadata": {},
   "outputs": [
    {
     "data": {
      "text/plain": [
       "'o'"
      ]
     },
     "execution_count": 12,
     "metadata": {},
     "output_type": "execute_result"
    }
   ],
   "source": [
    "tup_1[4]"
   ]
  },
  {
   "cell_type": "code",
   "execution_count": 14,
   "id": "85f7025a",
   "metadata": {},
   "outputs": [],
   "source": [
    "tup_3 = tuple([(1,2,4), 'foo', [1,3,4], False])"
   ]
  },
  {
   "cell_type": "code",
   "execution_count": 19,
   "id": "c1beb94e",
   "metadata": {},
   "outputs": [
    {
     "data": {
      "text/plain": [
       "((1, 2, 4), 'foo', [1, 3, 4], False)"
      ]
     },
     "execution_count": 19,
     "metadata": {},
     "output_type": "execute_result"
    }
   ],
   "source": [
    "tup_3"
   ]
  },
  {
   "cell_type": "code",
   "execution_count": 16,
   "id": "ad001d33",
   "metadata": {},
   "outputs": [
    {
     "data": {
      "text/plain": [
       "[1, 3, 4]"
      ]
     },
     "execution_count": 16,
     "metadata": {},
     "output_type": "execute_result"
    }
   ],
   "source": [
    "tup_3[2]"
   ]
  },
  {
   "cell_type": "code",
   "execution_count": 26,
   "id": "9006f703",
   "metadata": {},
   "outputs": [
    {
     "ename": "TypeError",
     "evalue": "'tuple' object does not support item assignment",
     "output_type": "error",
     "traceback": [
      "\u001b[1;31m---------------------------------------------------------------------------\u001b[0m",
      "\u001b[1;31mTypeError\u001b[0m                                 Traceback (most recent call last)",
      "Input \u001b[1;32mIn [26]\u001b[0m, in \u001b[0;36m<cell line: 2>\u001b[1;34m()\u001b[0m\n\u001b[0;32m      1\u001b[0m \u001b[38;5;66;03m### Tuples are immutable we can't modify \u001b[39;00m\n\u001b[1;32m----> 2\u001b[0m tup_3[\u001b[38;5;241m3\u001b[39m] \u001b[38;5;241m=\u001b[39m \u001b[38;5;28;01mFalse\u001b[39;00m\n",
      "\u001b[1;31mTypeError\u001b[0m: 'tuple' object does not support item assignment"
     ]
    }
   ],
   "source": [
    "### Tuples are immutable we can't modify \n",
    "tup_3[3] = False"
   ]
  },
  {
   "cell_type": "code",
   "execution_count": 21,
   "id": "07d4049a",
   "metadata": {},
   "outputs": [],
   "source": [
    "tup_3[2].append(2)"
   ]
  },
  {
   "cell_type": "code",
   "execution_count": 22,
   "id": "9cf94a34",
   "metadata": {},
   "outputs": [
    {
     "data": {
      "text/plain": [
       "((1, 2, 4), 'foo', [1, 3, 4, 2], False)"
      ]
     },
     "execution_count": 22,
     "metadata": {},
     "output_type": "execute_result"
    }
   ],
   "source": [
    "tup_3"
   ]
  },
  {
   "cell_type": "code",
   "execution_count": 25,
   "id": "bfbab10a",
   "metadata": {},
   "outputs": [
    {
     "data": {
      "text/plain": [
       "(4, None, 'foo', 6, 0, 'bar')"
      ]
     },
     "execution_count": 25,
     "metadata": {},
     "output_type": "execute_result"
    }
   ],
   "source": [
    "### Concatenate Tuples\n",
    "(4, None, 'foo') + (6, 0) + ('bar',)"
   ]
  },
  {
   "cell_type": "code",
   "execution_count": 27,
   "id": "22921896",
   "metadata": {},
   "outputs": [
    {
     "data": {
      "text/plain": [
       "('foo', 'bar', 'foo', 'bar', 'foo', 'bar', 'foo', 'bar')"
      ]
     },
     "execution_count": 27,
     "metadata": {},
     "output_type": "execute_result"
    }
   ],
   "source": [
    "### multiplying tuples\n",
    "('foo', 'bar') * 4"
   ]
  },
  {
   "cell_type": "markdown",
   "id": "d2371d17",
   "metadata": {},
   "source": [
    "### Unpacking tuples"
   ]
  },
  {
   "cell_type": "code",
   "execution_count": 28,
   "id": "b04c8d09",
   "metadata": {},
   "outputs": [],
   "source": [
    "# we can unpack tuples by assigning variables\n",
    "tup_4 = (1,2,3,4)"
   ]
  },
  {
   "cell_type": "code",
   "execution_count": 29,
   "id": "b08c2f35",
   "metadata": {},
   "outputs": [
    {
     "name": "stdout",
     "output_type": "stream",
     "text": [
      "1\n",
      "2\n",
      "3\n",
      "4\n"
     ]
    }
   ],
   "source": [
    "a,b,c,d = tup_4\n",
    "print(a)\n",
    "print(b)\n",
    "print(c)\n",
    "print(d)"
   ]
  },
  {
   "cell_type": "code",
   "execution_count": 30,
   "id": "d7d6f9d4",
   "metadata": {},
   "outputs": [],
   "source": [
    "### unpack nested tuples\n",
    "tup_5 = 1,3,5,(4,5,6) "
   ]
  },
  {
   "cell_type": "code",
   "execution_count": 32,
   "id": "9061de8b",
   "metadata": {},
   "outputs": [],
   "source": [
    "a,b,c,(d,f,g) = tup_5"
   ]
  },
  {
   "cell_type": "code",
   "execution_count": 34,
   "id": "1a8e3a5b",
   "metadata": {},
   "outputs": [
    {
     "name": "stdout",
     "output_type": "stream",
     "text": [
      "1\n",
      "3\n",
      "5\n",
      "4\n",
      "5\n",
      "6\n"
     ]
    }
   ],
   "source": [
    "print(a)\n",
    "print(b)\n",
    "print(c)\n",
    "print(d)\n",
    "print(f)\n",
    "print(g)"
   ]
  },
  {
   "cell_type": "code",
   "execution_count": 35,
   "id": "da5f884f",
   "metadata": {},
   "outputs": [],
   "source": [
    "### swap variable names\n",
    "tmp = a\n",
    "a = b\n",
    "b = tmp"
   ]
  },
  {
   "cell_type": "code",
   "execution_count": 36,
   "id": "7a4d4207",
   "metadata": {},
   "outputs": [
    {
     "data": {
      "text/plain": [
       "1"
      ]
     },
     "execution_count": 36,
     "metadata": {},
     "output_type": "execute_result"
    }
   ],
   "source": [
    "tmp"
   ]
  },
  {
   "cell_type": "code",
   "execution_count": 37,
   "id": "4ecadf3d",
   "metadata": {},
   "outputs": [
    {
     "data": {
      "text/plain": [
       "3"
      ]
     },
     "execution_count": 37,
     "metadata": {},
     "output_type": "execute_result"
    }
   ],
   "source": [
    "a"
   ]
  },
  {
   "cell_type": "code",
   "execution_count": 38,
   "id": "fd1d508c",
   "metadata": {},
   "outputs": [
    {
     "data": {
      "text/plain": [
       "1"
      ]
     },
     "execution_count": 38,
     "metadata": {},
     "output_type": "execute_result"
    }
   ],
   "source": [
    "b"
   ]
  },
  {
   "cell_type": "code",
   "execution_count": 39,
   "id": "28c54466",
   "metadata": {},
   "outputs": [],
   "source": [
    "a,b = 2,5"
   ]
  },
  {
   "cell_type": "code",
   "execution_count": 40,
   "id": "e4804043",
   "metadata": {},
   "outputs": [
    {
     "data": {
      "text/plain": [
       "2"
      ]
     },
     "execution_count": 40,
     "metadata": {},
     "output_type": "execute_result"
    }
   ],
   "source": [
    "a"
   ]
  },
  {
   "cell_type": "code",
   "execution_count": 41,
   "id": "9a88ad21",
   "metadata": {},
   "outputs": [
    {
     "data": {
      "text/plain": [
       "5"
      ]
     },
     "execution_count": 41,
     "metadata": {},
     "output_type": "execute_result"
    }
   ],
   "source": [
    "b"
   ]
  },
  {
   "cell_type": "code",
   "execution_count": 42,
   "id": "ebabb92e",
   "metadata": {},
   "outputs": [],
   "source": [
    "a,b = b,a"
   ]
  },
  {
   "cell_type": "code",
   "execution_count": 43,
   "id": "a1cebffb",
   "metadata": {},
   "outputs": [
    {
     "data": {
      "text/plain": [
       "5"
      ]
     },
     "execution_count": 43,
     "metadata": {},
     "output_type": "execute_result"
    }
   ],
   "source": [
    "a"
   ]
  },
  {
   "cell_type": "code",
   "execution_count": 44,
   "id": "479a9f63",
   "metadata": {},
   "outputs": [
    {
     "data": {
      "text/plain": [
       "2"
      ]
     },
     "execution_count": 44,
     "metadata": {},
     "output_type": "execute_result"
    }
   ],
   "source": [
    "b"
   ]
  },
  {
   "cell_type": "code",
   "execution_count": 46,
   "id": "b3247f6f",
   "metadata": {},
   "outputs": [
    {
     "name": "stdout",
     "output_type": "stream",
     "text": [
      "a-11, b-12, c-13\n",
      "a-14, b-15, c-16\n",
      "a-17, b-18, c-19\n"
     ]
    }
   ],
   "source": [
    "# variable unpacking is iterating over sequences of tuples or lists\n",
    "tup_seq = [(11,12,13),(14,15,16),(17,18,19)]\n",
    "for x,y,z in tup_seq:\n",
    "    print('a-{0}, b-{1}, c-{2}'.format(x,y,z))"
   ]
  },
  {
   "cell_type": "code",
   "execution_count": 47,
   "id": "3c0bb38a",
   "metadata": {},
   "outputs": [],
   "source": [
    "# unpack few elements  \n",
    "tup_values = 11, 12, 13, 14, 15\n",
    "x, y, *rest = tup_values"
   ]
  },
  {
   "cell_type": "code",
   "execution_count": 48,
   "id": "9c1bbbcd",
   "metadata": {},
   "outputs": [
    {
     "data": {
      "text/plain": [
       "11"
      ]
     },
     "execution_count": 48,
     "metadata": {},
     "output_type": "execute_result"
    }
   ],
   "source": [
    "x"
   ]
  },
  {
   "cell_type": "code",
   "execution_count": 49,
   "id": "ea2d89f2",
   "metadata": {},
   "outputs": [
    {
     "data": {
      "text/plain": [
       "12"
      ]
     },
     "execution_count": 49,
     "metadata": {},
     "output_type": "execute_result"
    }
   ],
   "source": [
    "y"
   ]
  },
  {
   "cell_type": "code",
   "execution_count": 50,
   "id": "8aacb333",
   "metadata": {},
   "outputs": [
    {
     "data": {
      "text/plain": [
       "[13, 14, 15]"
      ]
     },
     "execution_count": 50,
     "metadata": {},
     "output_type": "execute_result"
    }
   ],
   "source": [
    "rest"
   ]
  },
  {
   "cell_type": "code",
   "execution_count": 52,
   "id": "88a1b48b",
   "metadata": {},
   "outputs": [],
   "source": [
    "x, y, *_ = tup_values"
   ]
  },
  {
   "cell_type": "code",
   "execution_count": 53,
   "id": "596d0909",
   "metadata": {},
   "outputs": [
    {
     "data": {
      "text/plain": [
       "11"
      ]
     },
     "execution_count": 53,
     "metadata": {},
     "output_type": "execute_result"
    }
   ],
   "source": [
    "x"
   ]
  },
  {
   "cell_type": "code",
   "execution_count": 54,
   "id": "edf4dad5",
   "metadata": {},
   "outputs": [
    {
     "data": {
      "text/plain": [
       "12"
      ]
     },
     "execution_count": 54,
     "metadata": {},
     "output_type": "execute_result"
    }
   ],
   "source": [
    "y"
   ]
  },
  {
   "cell_type": "code",
   "execution_count": 55,
   "id": "2cf360bf",
   "metadata": {},
   "outputs": [
    {
     "data": {
      "text/plain": [
       "[13, 14, 15]"
      ]
     },
     "execution_count": 55,
     "metadata": {},
     "output_type": "execute_result"
    }
   ],
   "source": [
    "_"
   ]
  },
  {
   "cell_type": "markdown",
   "id": "bb37d2a9",
   "metadata": {},
   "source": [
    "### Tuple methods\n"
   ]
  },
  {
   "cell_type": "code",
   "execution_count": 58,
   "id": "b266303a",
   "metadata": {},
   "outputs": [
    {
     "data": {
      "text/plain": [
       "2"
      ]
     },
     "execution_count": 58,
     "metadata": {},
     "output_type": "execute_result"
    }
   ],
   "source": [
    "y = (11,22,11,22,33,33,33,44,44,55,55,66,66,66,66,77,88)\n",
    "y.count(22)"
   ]
  },
  {
   "cell_type": "code",
   "execution_count": 59,
   "id": "72dddd23",
   "metadata": {},
   "outputs": [
    {
     "data": {
      "text/plain": [
       "3"
      ]
     },
     "execution_count": 59,
     "metadata": {},
     "output_type": "execute_result"
    }
   ],
   "source": [
    "y.count(33)"
   ]
  },
  {
   "cell_type": "code",
   "execution_count": 60,
   "id": "c06c8516",
   "metadata": {},
   "outputs": [
    {
     "data": {
      "text/plain": [
       "2"
      ]
     },
     "execution_count": 60,
     "metadata": {},
     "output_type": "execute_result"
    }
   ],
   "source": [
    "y.count(44)"
   ]
  },
  {
   "cell_type": "code",
   "execution_count": 61,
   "id": "b35647db",
   "metadata": {},
   "outputs": [
    {
     "data": {
      "text/plain": [
       "4"
      ]
     },
     "execution_count": 61,
     "metadata": {},
     "output_type": "execute_result"
    }
   ],
   "source": [
    "y.count(66)"
   ]
  },
  {
   "cell_type": "markdown",
   "id": "72621f40",
   "metadata": {},
   "source": [
    "### List"
   ]
  },
  {
   "cell_type": "code",
   "execution_count": 62,
   "id": "7c5ed2c0",
   "metadata": {},
   "outputs": [],
   "source": [
    "x_list = [None, 1, 2, 5, 3, None]"
   ]
  },
  {
   "cell_type": "code",
   "execution_count": 63,
   "id": "9354e4dd",
   "metadata": {},
   "outputs": [],
   "source": [
    "z_tup = ('apple', 'book', 'cat')"
   ]
  },
  {
   "cell_type": "code",
   "execution_count": 64,
   "id": "46d6b7bc",
   "metadata": {},
   "outputs": [
    {
     "data": {
      "text/plain": [
       "[None, 1, 2, 5, 3, None]"
      ]
     },
     "execution_count": 64,
     "metadata": {},
     "output_type": "execute_result"
    }
   ],
   "source": [
    "x_list"
   ]
  },
  {
   "cell_type": "code",
   "execution_count": 66,
   "id": "cc515f16",
   "metadata": {},
   "outputs": [],
   "source": [
    "x_list[1] = 'bat'"
   ]
  },
  {
   "cell_type": "code",
   "execution_count": 67,
   "id": "32bf026b",
   "metadata": {},
   "outputs": [
    {
     "data": {
      "text/plain": [
       "[None, 'bat', 2, 5, 3, None]"
      ]
     },
     "execution_count": 67,
     "metadata": {},
     "output_type": "execute_result"
    }
   ],
   "source": [
    "x_list"
   ]
  },
  {
   "cell_type": "code",
   "execution_count": 68,
   "id": "ac569c79",
   "metadata": {},
   "outputs": [
    {
     "data": {
      "text/plain": [
       "('apple', 'book', 'cat')"
      ]
     },
     "execution_count": 68,
     "metadata": {},
     "output_type": "execute_result"
    }
   ],
   "source": [
    "z_tup"
   ]
  },
  {
   "cell_type": "code",
   "execution_count": 70,
   "id": "93196675",
   "metadata": {},
   "outputs": [],
   "source": [
    "z_list = list(z_tup)"
   ]
  },
  {
   "cell_type": "code",
   "execution_count": 72,
   "id": "42b360ae",
   "metadata": {},
   "outputs": [
    {
     "data": {
      "text/plain": [
       "['apple', 'book', 'cat']"
      ]
     },
     "execution_count": 72,
     "metadata": {},
     "output_type": "execute_result"
    }
   ],
   "source": [
    "z_list"
   ]
  },
  {
   "cell_type": "code",
   "execution_count": 73,
   "id": "bc83f0ad",
   "metadata": {},
   "outputs": [],
   "source": [
    "z_list[0]='mango'"
   ]
  },
  {
   "cell_type": "code",
   "execution_count": 74,
   "id": "806912c8",
   "metadata": {},
   "outputs": [
    {
     "data": {
      "text/plain": [
       "['mango', 'book', 'cat']"
      ]
     },
     "execution_count": 74,
     "metadata": {},
     "output_type": "execute_result"
    }
   ],
   "source": [
    "z_list"
   ]
  },
  {
   "cell_type": "code",
   "execution_count": 78,
   "id": "1101cdaf",
   "metadata": {},
   "outputs": [],
   "source": [
    "gen = range(10)"
   ]
  },
  {
   "cell_type": "code",
   "execution_count": 79,
   "id": "f850b4da",
   "metadata": {},
   "outputs": [
    {
     "data": {
      "text/plain": [
       "range(0, 10)"
      ]
     },
     "execution_count": 79,
     "metadata": {},
     "output_type": "execute_result"
    }
   ],
   "source": [
    "gen"
   ]
  },
  {
   "cell_type": "code",
   "execution_count": 80,
   "id": "7e4979a0",
   "metadata": {},
   "outputs": [
    {
     "data": {
      "text/plain": [
       "[0, 1, 2, 3, 4, 5, 6, 7, 8, 9]"
      ]
     },
     "execution_count": 80,
     "metadata": {},
     "output_type": "execute_result"
    }
   ],
   "source": [
    "list(gen)"
   ]
  },
  {
   "cell_type": "markdown",
   "id": "fe1d3aa7",
   "metadata": {},
   "source": [
    "### Adding and removing elements\n"
   ]
  },
  {
   "cell_type": "code",
   "execution_count": 81,
   "id": "625ec90c",
   "metadata": {},
   "outputs": [],
   "source": [
    "# Elements can be appended to the end of the list with the append method\n",
    "z_list.append('banana')"
   ]
  },
  {
   "cell_type": "code",
   "execution_count": 82,
   "id": "636bf55a",
   "metadata": {},
   "outputs": [
    {
     "data": {
      "text/plain": [
       "['mango', 'book', 'cat', 'banana']"
      ]
     },
     "execution_count": 82,
     "metadata": {},
     "output_type": "execute_result"
    }
   ],
   "source": [
    "z_list"
   ]
  },
  {
   "cell_type": "code",
   "execution_count": 83,
   "id": "e5eddabc",
   "metadata": {},
   "outputs": [],
   "source": [
    "# Using insert can insert an element at a specific location in the list\n",
    "z_list.insert(2, 'pine apple')"
   ]
  },
  {
   "cell_type": "code",
   "execution_count": 84,
   "id": "2902f58c",
   "metadata": {},
   "outputs": [
    {
     "data": {
      "text/plain": [
       "['mango', 'book', 'pine apple', 'cat', 'banana']"
      ]
     },
     "execution_count": 84,
     "metadata": {},
     "output_type": "execute_result"
    }
   ],
   "source": [
    "z_list"
   ]
  },
  {
   "cell_type": "code",
   "execution_count": 85,
   "id": "87fa000a",
   "metadata": {},
   "outputs": [
    {
     "data": {
      "text/plain": [
       "'book'"
      ]
     },
     "execution_count": 85,
     "metadata": {},
     "output_type": "execute_result"
    }
   ],
   "source": [
    "# The inverse operation to insert is pop, which removes and returns an element at a particular index\n",
    "z_list.pop(1)"
   ]
  },
  {
   "cell_type": "code",
   "execution_count": 87,
   "id": "a60aec75",
   "metadata": {},
   "outputs": [
    {
     "data": {
      "text/plain": [
       "['mango', 'pine apple', 'cat', 'banana']"
      ]
     },
     "execution_count": 87,
     "metadata": {},
     "output_type": "execute_result"
    }
   ],
   "source": [
    "z_list"
   ]
  },
  {
   "cell_type": "code",
   "execution_count": null,
   "id": "30eee0ec",
   "metadata": {},
   "outputs": [],
   "source": []
  }
 ],
 "metadata": {
  "kernelspec": {
   "display_name": "Python 3 (ipykernel)",
   "language": "python",
   "name": "python3"
  },
  "language_info": {
   "codemirror_mode": {
    "name": "ipython",
    "version": 3
   },
   "file_extension": ".py",
   "mimetype": "text/x-python",
   "name": "python",
   "nbconvert_exporter": "python",
   "pygments_lexer": "ipython3",
   "version": "3.9.12"
  }
 },
 "nbformat": 4,
 "nbformat_minor": 5
}
